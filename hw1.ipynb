{
 "cells": [
  {
   "attachments": {},
   "cell_type": "markdown",
   "id": "bored-graduation",
   "metadata": {},
   "source": [
    "# EECS 487 HW 1: Language Model and Naive Bayes Classifier\n",
    "\n",
    "This notebook contains the programming part of HW 1. In the first problem, you will build two trigram language models for Yelp reviews, one that operates at the word-level and another that operates on the level of individual characters. You will then use these language models to generate sample Yelp reviews. In the second problem, you will build naive bayes classifiers to distinguish between legitimate news headlines and clickbait.\n",
    "\n",
    "After this assignment, you will learn to\n",
    "1. train ngram language models given a text corpus;\n",
    "2. generate text from a language model;\n",
    "3. calculate probability of some text given a language model;\n",
    "4. classify news headlines using naive bayes classifiers;\n",
    "5. evaluate classifiers by calculating the performance on test set.\n",
    "\n",
    "As a reminder, do not edit anything in this python notebook. All the code you need to write are in ```language_model.py``` and ```naive_bayes.py```.\n",
    "\n",
    "## Setup\n",
    "Before we get started, run the following cell to load the autoreload extension so that functions in ```language_model.py``` and ```naive_bayes.py``` will be re-imported into the notebook every time we run them. We also need to import all necessary packages."
   ]
  },
  {
   "cell_type": "code",
   "execution_count": 1,
   "id": "9b85e4d4",
   "metadata": {},
   "outputs": [
    {
     "name": "stderr",
     "output_type": "stream",
     "text": [
      "[nltk_data] Downloading package punkt to\n",
      "[nltk_data]     C:\\Users\\mckay\\AppData\\Roaming\\nltk_data...\n",
      "[nltk_data]   Package punkt is already up-to-date!\n"
     ]
    },
    {
     "data": {
      "text/plain": [
       "True"
      ]
     },
     "execution_count": 1,
     "metadata": {},
     "output_type": "execute_result"
    }
   ],
   "source": [
    "import nltk\n",
    "nltk.download('punkt')"
   ]
  },
  {
   "cell_type": "code",
   "execution_count": 2,
   "id": "angry-large",
   "metadata": {},
   "outputs": [],
   "source": [
    "%load_ext autoreload\n",
    "%autoreload 2\n",
    "\n",
    "import pickle\n",
    "\n",
    "import pandas as pd\n",
    "from sklearn.model_selection import train_test_split\n",
    "from nltk.tokenize import word_tokenize\n",
    "\n",
    "from language_model import *\n",
    "from naive_bayes import *"
   ]
  },
  {
   "attachments": {},
   "cell_type": "markdown",
   "id": "potential-mason",
   "metadata": {},
   "source": [
    "## 1 N-gram Language Model [40 points]\n",
    "In this problem, you will train two language models on Yelp reviews, one word-level (up to trigrams) and the other character-level (up to 4-grams). The [dataset provided](https://www.kaggle.com/datasets/omkarsabnis/yelp-reviews-dataset?resource=download) is a subset of [a larger dataset](https://www.yelp.com/dataset) published by Yelp. We downloaded the file ```yelp.csv``` for you. To begin, you need to first load the data. Here we provide the code for you, but take a look at how we do it because you will need to load the data by yourself later."
   ]
  },
  {
   "cell_type": "code",
   "execution_count": 3,
   "id": "enormous-particular",
   "metadata": {},
   "outputs": [
    {
     "name": "stdout",
     "output_type": "stream",
     "text": [
      "trn_text:\n",
      "0       Consistent with the east coast stores, great f...\n",
      "1       I had a serious craving for Roti.  So glad I f...\n",
      "2       Cool atmosphere and good service.\\nThe food is...\n",
      "3       I loved this place! Amazing food and service. ...\n",
      "4       This is the pub burger you have been looking f...\n",
      "                              ...                        \n",
      "7995    Very relaxed atmosphere and employees are supe...\n",
      "7996    07/25/11\\n\\nI have a new crush... and it's Chr...\n",
      "7997    I've been frequenting the Dollar store for the...\n",
      "7998    I love the girls there. I get my eyebrows done...\n",
      "7999    Scale of 1-10 (multiple visits):\\n10 Food\\n9 S...\n",
      "Name: text, Length: 8000, dtype: object\n",
      "\n",
      "dev_text:\n",
      "0       We got here around midnight last Friday... the...\n",
      "1       Brought a friend from Louisiana here.  She say...\n",
      "2       Every friday, my dad and I eat here. We order ...\n",
      "3       My husband and I were really, really disappoin...\n",
      "4       Love this place!  Was in phoenix 3 weeks for w...\n",
      "                              ...                        \n",
      "1995    Recently a friend at the gallery was very exci...\n",
      "1996    If you have never been before you should reall...\n",
      "1997    Consistency every time i return in quality of ...\n",
      "1998    A clean shopping center with many classy optio...\n",
      "1999    What  a beautiful facility. Attention to detai...\n",
      "Name: text, Length: 2000, dtype: object\n"
     ]
    }
   ],
   "source": [
    "filename = 'yelp.csv'\n",
    "df = pd.read_csv(filename)\n",
    "\n",
    "all_text = df['text']\n",
    "\n",
    "trn_text, dev_text = train_test_split(all_text, test_size=0.2, random_state=42)\n",
    "trn_text, dev_text = trn_text.reset_index(drop=True), dev_text.reset_index(drop=True)\n",
    "print(\"trn_text:\")\n",
    "print(trn_text)\n",
    "print(\"\\ndev_text:\")\n",
    "print(dev_text)"
   ]
  },
  {
   "attachments": {},
   "cell_type": "markdown",
   "id": "latest-glance",
   "metadata": {},
   "source": [
    "### 1.1 Data processing and n-gram counts [10 points]\n",
    "Now you need to train your language models on these reviews. You need to implement the class ```NGramLM```. First, **fill in** the function ```get_ngram_counts``` to process the reviews and get the counts of all unigrams, bigrams, trigrams, and possibly four-grams (if character-level) in the reviews. You need to store the counts in the dictionary ```self.ngram_count```. This dictionary will contain dictionaries as values. For example, ```self.ngram_count[0]``` will be a dictionary containing all of the unigrams, and ```self.ngram_count[1]``` will be a dictionary containing all the bigrams.\n",
    "\n",
    "To access the count of a unigram, simply use it as a key in the unigram dictionary: ```self.ngram_count[0][\"word1\"]``` will be $C(word1)$.\n",
    "\n",
    "To access the count of a bigram (or trigram or four-gram), simply use a tuple: ```self.ngram_count[1][(\"word1\", \"word2\")]``` will be $C(word1, word2)$.\n",
    "\n",
    "Use the following rules when processing the reviews:\n",
    "- Prepend **two/three** &lt;s&gt; at the beginning of each review as BOS tokens (two for word-level model and three for character-level model), and append one &lt;/s&gt; at the end of a review as the EOS token. \n",
    "- Convert all letters to lowercase.\n",
    "- Tokenize each review. Use a word-level tokenizer (such as ```nltk.tokenize.word_tokenize```) for the word-level model and a character-level tokenizer (such as ```char_tokenizer```, defined below) for the character-level model. Do not split BOS and EOS tokens.\n",
    "- You will need to make the function ```get_ngram_counts``` flexible enough so that (1) it can operate on both the character-level and the word-level and (2) it can operate on a variety of ngram sizes (e.g. trigrams and four-grams)\n",
    "- Replace all tokens that occur < 2 times with \"UNK\". Note: for the character-level model, this means that all characters occuring less than once should be replaced with UNK.\n",
    "- Do **NOT** remove punctuation.\n",
    "\n",
    "Hint: ```collections.defaultdict``` is useful."
   ]
  },
  {
   "cell_type": "code",
   "execution_count": 4,
   "id": "superb-sympathy",
   "metadata": {},
   "outputs": [
    {
     "name": "stdout",
     "output_type": "stream",
     "text": [
      "Number of unigrams: 15986\n",
      "Unigram with smallest count: t.j.\tCount: 2\n",
      "Unknown unigram: 15278\n",
      "Number of BOS token: 16000\n",
      "Number of bigrams: 307143\n"
     ]
    }
   ],
   "source": [
    "bos_token, eos_token = '<s>', '</s>'\n",
    "ngram_size = 3 # Use trigrams\n",
    "word_lm = NGramLM(bos_token, eos_token, word_tokenize, ngram_size)\n",
    "word_lm.get_ngram_counts(trn_text.tolist())\n",
    "print(f\"Number of unigrams: {len(word_lm.ngram_count[0])}\")\n",
    "least_unigram = min(word_lm.ngram_count[0].keys(), key=lambda x: word_lm.ngram_count[0][x])\n",
    "print(f\"Unigram with smallest count: {least_unigram}\\tCount: {word_lm.ngram_count[0][least_unigram]}\")\n",
    "print(f\"Unknown unigram: {word_lm.ngram_count[0]['UNK']}\")\n",
    "print(f\"Number of BOS token: {word_lm.ngram_count[0][bos_token]}\")\n",
    "print(f\"Number of bigrams: {len(word_lm.ngram_count[1])}\")"
   ]
  },
  {
   "attachments": {},
   "cell_type": "markdown",
   "id": "3ef26743",
   "metadata": {},
   "source": [
    "Now that you have tested ```get_ngram_counts``` on the word-level model (above), test it on the character-level model below."
   ]
  },
  {
   "cell_type": "code",
   "execution_count": 5,
   "id": "ethical-giant",
   "metadata": {},
   "outputs": [
    {
     "name": "stdout",
     "output_type": "stream",
     "text": [
      "Number of unigrams: 83\n",
      "Unigram with smallest count: ü\tCount: 2\n",
      "Unknown unigram: 8\n",
      "Number of BOS token: 24000\n",
      "Number of bigrams: 2644\n"
     ]
    }
   ],
   "source": [
    "def char_tokenizer(text):\n",
    "    return [char for char in text]\n",
    "\n",
    "ngram_size = 4 # Use four-grams\n",
    "char_lm = NGramLM(bos_token, eos_token, char_tokenizer, ngram_size)\n",
    "char_lm.get_ngram_counts(trn_text.tolist())\n",
    "print(f\"Number of unigrams: {len(char_lm.ngram_count[0])}\")\n",
    "least_unigram = min(char_lm.ngram_count[0].keys(), key=lambda x: char_lm.ngram_count[0][x])\n",
    "print(f\"Unigram with smallest count: {least_unigram}\\tCount: {char_lm.ngram_count[0][least_unigram]}\")\n",
    "print(f\"Unknown unigram: {char_lm.ngram_count[0]['UNK']}\")\n",
    "print(f\"Number of BOS token: {char_lm.ngram_count[0][bos_token]}\")\n",
    "print(f\"Number of bigrams: {len(char_lm.ngram_count[1])}\")"
   ]
  },
  {
   "attachments": {},
   "cell_type": "markdown",
   "id": "peripheral-charge",
   "metadata": {},
   "source": [
    "### 1.2 Add-k Smoothing [5 points]\n",
    "As discussed in the lecture, simply counting the number of occurrence of n-grams will assign 0 probability to n-grams that don't appear in the training corpus and thus cannot generalize to unseen data. To mitigate this, you need to implement some smoothing techniques. **Fill in** the function ```add_k_prob``` so that given a bigram $(w_1, w_2)$, a unigram $w_3$, and $k$, return $p(w_3|(w_1, w_2))$ after applying add-k smoothing.<br>\n",
    "\n",
    "Notes: \n",
    "- Program this flexibly enough so that, for the character-level model, the model can smooth over trigrams and unigrams rather than bigrams and unigrams.\n",
    "- &lt;s&gt; should **NOT** be considered when calculating the vocabulary size because it will never be generated by the language model (although it's in ```self.unigram_count```). &lt;/s&gt; should be treated as a token in the vocabulary."
   ]
  },
  {
   "cell_type": "code",
   "execution_count": 6,
   "id": "substantial-trust",
   "metadata": {},
   "outputs": [
    {
     "name": "stdout",
     "output_type": "stream",
     "text": [
      "Vocabulary: ['<s>', 'apple', '</s>', 'circle', 'dot', 'triangle', 'the', 'red', 'blue', 'UNK']\n",
      "Probability of seen: 0.23076923076923078\n",
      "Probability of unseen: 0.07692307692307693\n"
     ]
    }
   ],
   "source": [
    "# prepare counts\n",
    "test_data = ['An apple', 'A circle', 'This dot', 'That triangle', 'The red apple', 'The red circle', 'The blue dot', 'The blue triangle']\n",
    "k = 0.5\n",
    "test_word_lm = NGramLM(bos_token, eos_token, word_tokenize, 3)\n",
    "test_word_lm.get_ngram_counts(test_data)\n",
    "print(f\"Vocabulary: {list(test_word_lm.ngram_count[0].keys())}\")\n",
    "# test\n",
    "bigram = ('the', 'red')\n",
    "unigram = 'apple'\n",
    "print(f\"Probability of seen: {test_word_lm.add_k_smooth_prob(bigram, unigram, k)}\")\n",
    "\n",
    "bigram = ('the', 'blue')\n",
    "unigram = 'apple'\n",
    "print(f\"Probability of unseen: {test_word_lm.add_k_smooth_prob(bigram, unigram, k)}\")"
   ]
  },
  {
   "attachments": {},
   "cell_type": "markdown",
   "id": "4bf1040d",
   "metadata": {},
   "source": [
    "Now test out the same smoothing code on the character-level model."
   ]
  },
  {
   "cell_type": "code",
   "execution_count": 7,
   "id": "unexpected-status",
   "metadata": {},
   "outputs": [
    {
     "name": "stdout",
     "output_type": "stream",
     "text": [
      "Vocabulary: ['<s>', 'p', 'l', 'a', 'n', '</s>', 't']\n",
      "Probability of seen: 0.5833333333333334\n",
      "Probability of unseen: 0.08333333333333333\n"
     ]
    }
   ],
   "source": [
    "test_data = ['plan', 'plant', 'planet']\n",
    "k = 0.5\n",
    "test_char_lm = NGramLM(bos_token, eos_token, char_tokenizer, 4)\n",
    "test_char_lm.get_ngram_counts(test_data)\n",
    "print(f\"Vocabulary: {list(test_char_lm.ngram_count[0].keys())}\")\n",
    "# test\n",
    "trigram = ('p', 'l', 'a')\n",
    "unigram = 'n'\n",
    "print(f\"Probability of seen: {test_char_lm.add_k_smooth_prob(trigram, unigram, k)}\")\n",
    "\n",
    "trigram = ('p', 'l', 'a')\n",
    "unigram = 't'\n",
    "print(f\"Probability of unseen: {test_char_lm.add_k_smooth_prob(trigram, unigram, k)}\")"
   ]
  },
  {
   "attachments": {},
   "cell_type": "markdown",
   "id": "yellow-respondent",
   "metadata": {},
   "source": [
    "### 1.3 Linear interpolation [4 points]\n",
    "Similarly, **fill in** the function ```linear_interp_prob``` so that given a bigram $(w_1, w_2)$, a unigram $w_3$, and list of values [$\\lambda_1$, $\\lambda_2$, $\\lambda_3$], return $p(w_3|(w_1, w_2))$ after applying linear interpolation.\n",
    "\n",
    "Once again, implement this flexibly enough to operate on four-grams for the character-level model."
   ]
  },
  {
   "cell_type": "code",
   "execution_count": 8,
   "id": "latest-summit",
   "metadata": {},
   "outputs": [
    {
     "name": "stdout",
     "output_type": "stream",
     "text": [
      "Probability of seen: 0.41250000000000003\n",
      "Probability of unseen: 0.0125\n"
     ]
    }
   ],
   "source": [
    "lambda1 = 0.6\n",
    "lambda2 = 0.2\n",
    "lambda3 = 0.2\n",
    "lambdas = [lambda1, lambda2, lambda3]\n",
    "\n",
    "bigram = ('the', 'red')\n",
    "unigram = 'apple'\n",
    "print(f\"Probability of seen: {test_word_lm.linear_interp_prob(bigram, unigram, lambdas)}\")\n",
    "\n",
    "bigram = ('the', 'blue')\n",
    "unigram = 'apple'\n",
    "print(f\"Probability of unseen: {test_word_lm.linear_interp_prob(bigram, unigram, lambdas)}\")"
   ]
  },
  {
   "attachments": {},
   "cell_type": "markdown",
   "id": "86807e66",
   "metadata": {},
   "source": [
    "Now test ```linear_interp_prob``` on the character-level model."
   ]
  },
  {
   "cell_type": "code",
   "execution_count": 9,
   "id": "accessible-debut",
   "metadata": {},
   "outputs": [
    {
     "name": "stdout",
     "output_type": "stream",
     "text": [
      "Probability of seen: 0.9157894736842106\n",
      "Probability of unseen: 0.010526315789473684\n"
     ]
    }
   ],
   "source": [
    "lambda1 = 0.6\n",
    "lambda2 = 0.2\n",
    "lambda3 = 0.1\n",
    "lambda4 = 0.1\n",
    "lambdas = [lambda1, lambda2, lambda3, lambda4]\n",
    "\n",
    "trigram = ('p', 'l', 'a')\n",
    "unigram = 'n'\n",
    "print(f\"Probability of seen: {test_char_lm.linear_interp_prob(trigram, unigram, lambdas)}\")\n",
    "\n",
    "trigram = ('p', 'l', 'a')\n",
    "unigram = 't'\n",
    "print(f\"Probability of unseen: {test_char_lm.linear_interp_prob(trigram, unigram, lambdas)}\")"
   ]
  },
  {
   "attachments": {},
   "cell_type": "markdown",
   "id": "front-cambridge",
   "metadata": {},
   "source": [
    "### 1.4 Calculate next word probability [2 points]\n",
    "**Fill in** the function ```get_probability``` that calculates $p(w_3|(w_1, w_2))$ using either add-k smoothing or linear interpolation that you implemented above. The input is a dictionary that specifies how should you do the smoothing. Once again, program this function flexibly so that it works in the character-level model as well."
   ]
  },
  {
   "cell_type": "code",
   "execution_count": null,
   "id": "trying-delivery",
   "metadata": {},
   "outputs": [],
   "source": [
    "smoothing_args1 = {\n",
    "    'method': 'add_k',\n",
    "    'k': 0.5\n",
    "}\n",
    "smoothing_args2 = {\n",
    "    'method': 'linear',\n",
    "    'lambdas': [0.6, 0.2, 0.2]\n",
    "}\n",
    "bigram = ('a', 'red')\n",
    "unigram = 'dot'\n",
    "print(f\"Add-k smoothing: {test_word_lm.get_probability(bigram, unigram, smoothing_args1)}\")\n",
    "print(f\"Linear interpolation: {test_word_lm.get_probability(bigram, unigram, smoothing_args2)}\")"
   ]
  },
  {
   "cell_type": "code",
   "execution_count": 14,
   "id": "1511c12e",
   "metadata": {},
   "outputs": [
    {
     "name": "stdout",
     "output_type": "stream",
     "text": [
      "('a', 'red', 'dot') ('a', 'red')\n",
      "0 0\n"
     ]
    },
    {
     "ename": "ZeroDivisionError",
     "evalue": "division by zero",
     "output_type": "error",
     "traceback": [
      "\u001b[1;31m---------------------------------------------------------------------------\u001b[0m",
      "\u001b[1;31mZeroDivisionError\u001b[0m                         Traceback (most recent call last)",
      "Cell \u001b[1;32mIn[14], line 1\u001b[0m\n\u001b[1;32m----> 1\u001b[0m test_word_lm\u001b[39m.\u001b[39;49mget_probability(bigram, unigram, smoothing_args2)\n",
      "File \u001b[1;32mc:\\Users\\mckay\\Desktop\\School\\winter 2023\\EECS 487\\homework1\\language_model.py:107\u001b[0m, in \u001b[0;36mNGramLM.get_probability\u001b[1;34m(self, n_minus1_gram, unigram, smoothing_args)\u001b[0m\n\u001b[0;32m    105\u001b[0m     probability \u001b[39m=\u001b[39m \u001b[39mself\u001b[39m\u001b[39m.\u001b[39madd_k_smooth_prob(n_minus1_gram, unigram, smoothing_args[\u001b[39m'\u001b[39m\u001b[39mk\u001b[39m\u001b[39m'\u001b[39m])\n\u001b[0;32m    106\u001b[0m \u001b[39melse\u001b[39;00m:\n\u001b[1;32m--> 107\u001b[0m     probability \u001b[39m=\u001b[39m \u001b[39mself\u001b[39;49m\u001b[39m.\u001b[39;49mlinear_interp_prob(n_minus1_gram, unigram, smoothing_args[\u001b[39m'\u001b[39;49m\u001b[39mlambdas\u001b[39;49m\u001b[39m'\u001b[39;49m])\n\u001b[0;32m    109\u001b[0m \u001b[39mreturn\u001b[39;00m probability\n",
      "File \u001b[1;32mc:\\Users\\mckay\\Desktop\\School\\winter 2023\\EECS 487\\homework1\\language_model.py:92\u001b[0m, in \u001b[0;36mNGramLM.linear_interp_prob\u001b[1;34m(self, n_minus1_gram, unigram, lambdas)\u001b[0m\n\u001b[0;32m     90\u001b[0m     \u001b[39mprint\u001b[39m(thisProb, denom)\n\u001b[0;32m     91\u001b[0m     \u001b[39mprint\u001b[39m(\u001b[39mself\u001b[39m\u001b[39m.\u001b[39mngram_count[gramIndex\u001b[39m+\u001b[39m\u001b[39m1\u001b[39m\u001b[39m-\u001b[39mi][thisProb], \u001b[39mself\u001b[39m\u001b[39m.\u001b[39mngram_count[gramIndex\u001b[39m-\u001b[39mi][denom])\n\u001b[1;32m---> 92\u001b[0m     probability \u001b[39m+\u001b[39m\u001b[39m=\u001b[39m lam \u001b[39m*\u001b[39m (\u001b[39mself\u001b[39;49m\u001b[39m.\u001b[39;49mngram_count[gramIndex\u001b[39m+\u001b[39;49m\u001b[39m1\u001b[39;49m\u001b[39m-\u001b[39;49mi][thisProb] \u001b[39m/\u001b[39;49m \u001b[39mself\u001b[39;49m\u001b[39m.\u001b[39;49mngram_count[gramIndex\u001b[39m-\u001b[39;49mi][denom])\n\u001b[0;32m     93\u001b[0m \u001b[39melse\u001b[39;00m:\n\u001b[0;32m     94\u001b[0m     probability \u001b[39m+\u001b[39m\u001b[39m=\u001b[39m lam \u001b[39m*\u001b[39m (\u001b[39mself\u001b[39m\u001b[39m.\u001b[39mngram_count[\u001b[39m0\u001b[39m][thisProb] \u001b[39m/\u001b[39m \u001b[39mself\u001b[39m\u001b[39m.\u001b[39mvocab_sum)\n",
      "\u001b[1;31mZeroDivisionError\u001b[0m: division by zero"
     ]
    }
   ],
   "source": [
    "test_word_lm.get_probability(bigram, unigram, smoothing_args2)"
   ]
  },
  {
   "cell_type": "code",
   "execution_count": 17,
   "id": "e72e920f",
   "metadata": {},
   "outputs": [
    {
     "data": {
      "text/plain": [
       "defaultdict(int,\n",
       "            {'<s>': 16,\n",
       "             'apple': 2,\n",
       "             '</s>': 8,\n",
       "             'circle': 2,\n",
       "             'dot': 2,\n",
       "             'triangle': 2,\n",
       "             'the': 4,\n",
       "             'red': 2,\n",
       "             'blue': 2,\n",
       "             'UNK': 4})"
      ]
     },
     "execution_count": 17,
     "metadata": {},
     "output_type": "execute_result"
    }
   ],
   "source": [
    "test_word_lm.ngram_count[0]"
   ]
  },
  {
   "attachments": {},
   "cell_type": "markdown",
   "id": "multiple-singer",
   "metadata": {},
   "source": [
    "### 1.5 Calculate perplexity [4 points]\n",
    "One way to evaluate the language model is to calculate its perplexity on some validation data. **Fill in** the function ```get_perplexity``` so that given a document and smoothing arguments, return the perplexity of the document. Remember to follow the **same** processing steps you used previously. To avoid underflow issue, remember to calculate the log of perplexity first. i.e., $PPL(W)=\\exp\\left(\\log\\left(\\sqrt[N]{\\prod_{i=1}^N{\\frac{1}{p(w_i|w_{i-2}w_{i-1})}}}\\right)\\right)=\\exp\\left(-\\frac{1}{N}\\sum_{i=1}^N{\\log{p(w_i|w_{i-2}w_{i-1})}}\\right)$, where $w_0=w_{-1}=$ &lt;s&gt; and $w_N=$ &lt;/s&gt;. Also, once again, remember to program this flexibly enough that it can work for both the word-level and character-level models."
   ]
  },
  {
   "cell_type": "code",
   "execution_count": null,
   "id": "hawaiian-examination",
   "metadata": {},
   "outputs": [],
   "source": [
    "text = \"This sentence contains unseen words.\"\n",
    "\n",
    "print(f\"Add-k smoothing: {test_word_lm.get_perplexity(text, smoothing_args1)}\")\n",
    "print(f\"Linear interpolation: {test_word_lm.get_perplexity(text, smoothing_args2)}\")"
   ]
  },
  {
   "attachments": {},
   "cell_type": "markdown",
   "id": "coupled-correlation",
   "metadata": {},
   "source": [
    "### 1.6 Search hyperparameters [6 points]\n",
    "Now you are ready to find your best language models! First find the best k value for the word-level model and for the character-level model using add-k smoothing. You need to search k in this list: \\[0.2, 0.4, 0.6, 0.8, 1.0\\].\n",
    "\n",
    "**Fill in** the function ```search_k``` such that given a validation set, return the best k value on it. Print out the perplexity (average on the whole validation set) for each k."
   ]
  },
  {
   "cell_type": "code",
   "execution_count": null,
   "id": "acceptable-dealer",
   "metadata": {},
   "outputs": [],
   "source": [
    "print(\"Word LM\")\n",
    "word_k = word_lm.search_k(dev_text)\n",
    "print(f\"Best k: {word_k}\")\n",
    "print(\"Char LM\")\n",
    "char_k = char_lm.search_k(dev_text)\n",
    "print(f\"Best k: {char_k}\")"
   ]
  },
  {
   "attachments": {},
   "cell_type": "markdown",
   "id": "hydraulic-theorem",
   "metadata": {},
   "source": [
    "Similarly, **fill in** the function ```search_lambda``` such that, given a validation set, returns the best $\\lambda$ values on it. You need to choose the search list by yourself. Print out the best set of $\\lambda$ and corresponding perplexity. To get full credits, your perplexity scores need to be < 180 for the word-level model and < 15 for the character-level model.\n",
    "\n",
    "Note: this code block might take a couple minutes to run."
   ]
  },
  {
   "cell_type": "code",
   "execution_count": null,
   "id": "blocked-monaco",
   "metadata": {},
   "outputs": [],
   "source": [
    "print(\"Word LM\")\n",
    "word_lambda = word_lm.search_lambda(dev_text)\n",
    "print(\"Char LM\")\n",
    "char_lambda = char_lm.search_lambda(dev_text)"
   ]
  },
  {
   "attachments": {},
   "cell_type": "markdown",
   "id": "d9616083",
   "metadata": {},
   "source": [
    "### 1.7 Generate reviews [5 points]\n",
    "Finally, you can automatically generate text using your language models. **Fill in** the function ```generate_text``` to generate a sentence based on an input prompt. To generate the text, you need to find the distribution of the next word given previous two words (or next character given the previous three characters). Then you need to sample the next word/character based on the distribution. After the word/character is sampled, append it to the current text and continue generating the next word/character. You need to repeat this process untill the current sequence **has 15 words/characters** (including prompts) or you **generate the &lt;/s&gt; token**.\n",
    "\n",
    "Note that there exist more advanced methods to generate text from language models such as beam search, top-k sampling, and top-p sampling. You can refer to [this blog](https://huggingface.co/blog/how-to-generate) to get an idea of what they mean. In this assignment, you are not required to implement the advanced methods. Simply sampling from the trigram/four-gram distribution is good enough.\n",
    "\n",
    "Begin with the word-level model here:"
   ]
  },
  {
   "cell_type": "code",
   "execution_count": null,
   "id": "cb9d1e55",
   "metadata": {},
   "outputs": [],
   "source": [
    "prompts = [['The', 'location'], ['We', 'ate'], ['I', 'thought'], ['It', 'had']]\n",
    "for prompt in prompts:\n",
    "    print(\"Word LM\")\n",
    "    word_lm.generate_text(prompt, smoothing_args1)"
   ]
  },
  {
   "attachments": {},
   "cell_type": "markdown",
   "id": "49b7b51a",
   "metadata": {},
   "source": [
    "Now test the character-level model:"
   ]
  },
  {
   "cell_type": "code",
   "execution_count": null,
   "id": "0774fc2f",
   "metadata": {},
   "outputs": [],
   "source": [
    "prompts = ['The store', 'We ate']\n",
    "for prompt in prompts:\n",
    "    print(\"Char LM\")\n",
    "    prompt_tokenized = char_tokenizer(prompt)\n",
    "    char_lm.generate_text(prompt_tokenized, smoothing_args1)"
   ]
  },
  {
   "attachments": {},
   "cell_type": "markdown",
   "id": "swiss-dining",
   "metadata": {},
   "source": [
    "### 1.8 Predict the class of a review [4 points]\n",
    "The Yelp review dataset contains several columns specifying attributes of each review:\n",
    "- ```stars``` indicates on a scale from 1 to 5 how many stars the reviewer gave in the review\n",
    "- ```cool```, ```useful```, and ```funny``` all indicate how many users rated the review as cool, useful or funny\n",
    "\n",
    "Using the same techniques developed above, this section requires you to do the following:\n",
    "- Fill in the function ```load_new_data``` to generate a split in the data. For instance, one class could be reviews with at least one funny rating and the opposing class could be reviews not marked as funny by anyone. In this function, use the techniques at the beginning of the notebook to split the overall dataset into two classes and then again into a training and dev dataset for each class\n",
    "- Fill in the function ```predict_class``` to predict the class to which the review in ```test_review.txt``` belongs. This function will take in two word-level language models (each trained on the training data for one class) and compute the probability of the review generated by each language model. I.e., $p(W|LM_1)$ and $p(W|LM_2)$, or equivalently $PPL(W)$ based on $LM_1$ and $LM_2$. Print out the perplexity of each language model and your prediction.\n",
    "\n",
    "The test review used has the following attributes:\n",
    "- ```stars``` : 2\n",
    "- ```useful``` : 3\n",
    "- ```funny``` : 7\n",
    "- ```cool``` : 3"
   ]
  },
  {
   "cell_type": "code",
   "execution_count": null,
   "id": "aware-craft",
   "metadata": {},
   "outputs": [],
   "source": [
    "filename = 'yelp.csv'\n",
    "df = pd.read_csv(filename)\n",
    "\n",
    "smoothing_args = {\n",
    "    'method': 'linear',\n",
    "    'lambdas': word_lambda\n",
    "}\n",
    "\n",
    "class1_trn, class1_dev, class2_trn, class2_dev = load_new_data(df)\n",
    "\n",
    "class1_lm = NGramLM(bos_token, eos_token, word_tokenize, 3)\n",
    "class1_lm.get_ngram_counts(class1_trn)\n",
    "\n",
    "class2_lm = NGramLM(bos_token, eos_token, word_tokenize, 3)\n",
    "class2_lm.get_ngram_counts(class2_trn)\n",
    "\n",
    "predict_class('test_review.txt', class1_lm, class2_lm, smoothing_args)"
   ]
  },
  {
   "attachments": {},
   "cell_type": "markdown",
   "id": "regular-poison",
   "metadata": {},
   "source": [
    "## 2 Naive Bayes for Text Classification [29 points]\n",
    "In this problem, you will build naive bayes classifiers to do text classification. You will use the clickbait headlines dataset, which contains examples of legitimate news headlines and clickbait news headlines. The original dataset can be found in [this GitHub repository](https://github.com/bhargaviparanjape/clickbait) and [this paper](https://arxiv.org/abs/1610.09786).\n",
    "### 2.1 Load dataset [4 points]\n",
    "To get started, **fill in** the function ```load_headlines``` to load the clickbait dataset into pandas dataframes. The file ```clickbait_data.csv``` contains a partially processed subset of the data. It contains two columns: (1) ```is_clickbait``` is 1 when the row contains a clickbait headline and 0 when it doesn't and (2) ```text```, which contains the headline itself.\n",
    "\n",
    "To get started, **fill in** the function ```load_headlines``` to load the clickbait dataset into a pandas dataframe. To do this, you will need to do the following:\n",
    "\n",
    "1. Read in the ```text``` and ```is_clickbait``` columns.\n",
    "2. Rename the ```is_clickbait``` column to ```label```"
   ]
  },
  {
   "cell_type": "code",
   "execution_count": null,
   "id": "realistic-execution",
   "metadata": {},
   "outputs": [],
   "source": [
    "all_data = load_headlines('clickbait_data.csv')\n",
    "\n",
    "(train, test) = train_test_split(all_data, train_size=0.9)\n",
    "\n",
    "display(train)\n",
    "display(test)"
   ]
  },
  {
   "attachments": {},
   "cell_type": "markdown",
   "id": "earlier-spank",
   "metadata": {},
   "source": [
    "### 2.2 Dataset statistics [3 points]\n",
    "Before start training classifiers, you need to calculate some basic statistics of the dataset. **Fill in** the function ```get_basic_stats``` to print out the following statistics of the training data:\n",
    "- Average number of tokens per headline\n",
    "- Standard deviation of the number of tokens per headline\n",
    "- Total number of legitimate headlines\n",
    "- Total number of clickbait headlines\n",
    "\n",
    "Note: you can use any tokenization method you like."
   ]
  },
  {
   "cell_type": "code",
   "execution_count": null,
   "id": "sticky-account",
   "metadata": {},
   "outputs": [],
   "source": [
    "get_basic_stats(train)"
   ]
  },
  {
   "attachments": {},
   "cell_type": "markdown",
   "id": "exterior-rental",
   "metadata": {},
   "source": [
    "### 2.3 Data processing and ngram calculation [6 points]\n",
    "Now you need to calculate the ngram counts. **Fill in** the function ```fit``` that, given a dataframe of training data, calculates the ngram counts in each category and the prior probability for each category. Concretely, **store** the total occurrence of each ngram in each category in a list called ```self.ngram_count``` so that ```self.ngram_count[0]``` contains $count(w, c_0)$ for all $w$ in the vocabulary, and ```self.ngram_count[1]``` contains $count(w, c_1)$, etc. ```self.ngram_count[i]``` should be an array of shape $(1,|V|)$, where $V$ is the vocabulary. **Store** the total occurrence of all ngrams in each category in a list called ```self.total_count``` so that ```self.total_count[0]``` $=\\sum_{w\\in V}count(w, c_0)$, and ```self.total_count[1]``` $=\\sum_{w\\in V}count(w, c_1)$, etc. **Store** the prior probability for each category in ```self.category_prob```. You need to follow these rules when calculating the counts:\n",
    "- convert all letters to lowercase;\n",
    "- include both unigrams and bigrams;\n",
    "- ignore terms that appear in more than 80\\% of the headlines;\n",
    "- ignore terms that appear in less than 3 headlines.\n",
    "\n",
    "Hint: use ```CountVectorizer``` in sklearn and store it as ```self.vectorizer```. You need to use **both legitimate and clickbait headlines** to get the vocabulary."
   ]
  },
  {
   "cell_type": "code",
   "execution_count": null,
   "id": "personalized-opening",
   "metadata": {},
   "outputs": [],
   "source": [
    "naive_bayes = NaiveBayes()\n",
    "naive_bayes.fit(train)\n",
    "print(f\"Probability for each category: {naive_bayes.category_prob}\")\n",
    "print(f\"Length of self.ngram_count: {len(naive_bayes.ngram_count)}\")\n",
    "print(f\"Shape of the counts for 1st category: {naive_bayes.ngram_count[0].shape}\")\n",
    "print(f\"Number of non-zero terms for 1st category: {(naive_bayes.ngram_count[0] > 0).sum()}\")\n",
    "print(f\"Maximum count of the 1st category: {naive_bayes.ngram_count[0].max()}\")\n",
    "print(f\"Minimum count of the 1st category: {naive_bayes.ngram_count[0].min()}\")\n",
    "print(f\"Sum of ngram count for 1st category: {naive_bayes.ngram_count[0].sum()}\")\n",
    "print(f\"Total count for each category: {naive_bayes.total_count}\")"
   ]
  },
  {
   "attachments": {},
   "cell_type": "markdown",
   "id": "blind-decimal",
   "metadata": {},
   "source": [
    "### 2.4 Calculate posterior probability for a category [4 points]\n",
    "Next, you will use the vectorizer and ngram counts to calculate the posterior probability of a category. In this homework, we have two categories: legitimate and clickbait. **Fill in** the function ```calculate_prob``` that given a list of articles $docs$, a category index $i$, return $\\log\\left(p(c_i)p(d|c_i)\\right)=\\log\\left(p(c_i)\\prod_{x\\in X}p(x|c_i)\\right)$ for each article $d$ in $docs$, where $X$ is the set of unigrams and bigrams in **both** article $d$ and vocabulary $V$. Use **add-one smoothing** in your calculation and calculate the **sum of log** to avoid underflow issue."
   ]
  },
  {
   "cell_type": "code",
   "execution_count": null,
   "id": "brave-determination",
   "metadata": {},
   "outputs": [],
   "source": [
    "test_docs = [\"United Kingdom officially exits the European Union\",\n",
    " \"How to Lose a Guy in 10 Days\"]\n",
    "prob1 = naive_bayes.calculate_prob(test_docs, 0)\n",
    "prob2 = naive_bayes.calculate_prob(test_docs, 1)\n",
    "print(f\"Probability for category 0: {prob1}\")\n",
    "print(f\"Probability for category 1: {prob2}\")"
   ]
  },
  {
   "attachments": {},
   "cell_type": "markdown",
   "id": "occupied-sheep",
   "metadata": {},
   "source": [
    "### 2.5 Predict labels for new headlines [2 points]\n",
    "With the posterior probability of each category, you can predict the label for new headlines. **Fill in** the function ```predict``` that, given a list of headlines, returns the predicted categories of the headlines."
   ]
  },
  {
   "cell_type": "code",
   "execution_count": null,
   "id": "opposed-territory",
   "metadata": {},
   "outputs": [],
   "source": [
    "preds = naive_bayes.predict(test_docs)\n",
    "print(f\"Prediction: {preds}\")"
   ]
  },
  {
   "attachments": {},
   "cell_type": "markdown",
   "id": "bronze-semester",
   "metadata": {},
   "source": [
    "### 2.6 Calculate evaluation metrics [5 points]\n",
    "To evaluate a classifier, you need to calculate some evaluation metrics. **Fill in** the function ```evaluate``` that, given a list of predictions and a list of true labels, returns the accuracy, macro f1-score, and micro f1-score. You can **NOT** use functions in sklearn."
   ]
  },
  {
   "cell_type": "code",
   "execution_count": null,
   "id": "level-casino",
   "metadata": {},
   "outputs": [],
   "source": [
    "predictions = [1,1,0,1,0,0,1]\n",
    "labels = [1,0,0,1,0,1,1]\n",
    "accuracy, mac_f1, mic_f1 = evaluate(predictions, labels)\n",
    "print(f\"Accuracy: {accuracy}\")\n",
    "print(f\"Macro f1: {mac_f1}\")\n",
    "print(f\"Micro f1: {mic_f1}\")"
   ]
  },
  {
   "cell_type": "markdown",
   "id": "warming-corner",
   "metadata": {},
   "source": [
    "### 2.7 Test classifier on test data [2 points]\n",
    "Finally, you are ready to evaluate your classifier on the test data! Run the following cell to make predictions and print out performance."
   ]
  },
  {
   "cell_type": "code",
   "execution_count": null,
   "id": "amended-angle",
   "metadata": {},
   "outputs": [],
   "source": [
    "predictions = naive_bayes.predict(test.text.tolist())\n",
    "labels = test.label.tolist()\n",
    "accuracy, mac_f1, mic_f1 = evaluate(predictions, labels)\n",
    "print(f\"Accuracy: {accuracy}\")\n",
    "print(f\"Macro f1: {mac_f1}\")\n",
    "print(f\"Micro f1: {mic_f1}\")"
   ]
  }
 ],
 "metadata": {
  "kernelspec": {
   "display_name": "forClass",
   "language": "python",
   "name": "python3"
  },
  "language_info": {
   "codemirror_mode": {
    "name": "ipython",
    "version": 3
   },
   "file_extension": ".py",
   "mimetype": "text/x-python",
   "name": "python",
   "nbconvert_exporter": "python",
   "pygments_lexer": "ipython3",
   "version": "3.10.6"
  },
  "vscode": {
   "interpreter": {
    "hash": "d32eea16be5f7512ccd38ad6a3896f5ab97044c41fa2d520640b9eb9abd8c2e7"
   }
  }
 },
 "nbformat": 4,
 "nbformat_minor": 5
}
