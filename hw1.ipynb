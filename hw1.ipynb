{
 "cells": [
  {
   "attachments": {},
   "cell_type": "markdown",
   "id": "bored-graduation",
   "metadata": {},
   "source": [
    "# EECS 487 HW 1: Language Model and Naive Bayes Classifier\n",
    "\n",
    "This notebook contains the programming part of HW 1. In the first problem, you will build two trigram language models for Yelp reviews, one that operates at the word-level and another that operates on the level of individual characters. You will then use these language models to generate sample Yelp reviews. In the second problem, you will build naive bayes classifiers to distinguish between legitimate news headlines and clickbait.\n",
    "\n",
    "After this assignment, you will learn to\n",
    "1. train ngram language models given a text corpus;\n",
    "2. generate text from a language model;\n",
    "3. calculate probability of some text given a language model;\n",
    "4. classify news headlines using naive bayes classifiers;\n",
    "5. evaluate classifiers by calculating the performance on test set.\n",
    "\n",
    "As a reminder, do not edit anything in this python notebook. All the code you need to write are in ```language_model.py``` and ```naive_bayes.py```.\n",
    "\n",
    "## Setup\n",
    "Before we get started, run the following cell to load the autoreload extension so that functions in ```language_model.py``` and ```naive_bayes.py``` will be re-imported into the notebook every time we run them. We also need to import all necessary packages."
   ]
  },
  {
   "cell_type": "code",
   "execution_count": 1,
   "id": "9b85e4d4",
   "metadata": {},
   "outputs": [
    {
     "name": "stderr",
     "output_type": "stream",
     "text": [
      "[nltk_data] Downloading package punkt to\n",
      "[nltk_data]     C:\\Users\\mckay\\AppData\\Roaming\\nltk_data...\n",
      "[nltk_data]   Package punkt is already up-to-date!\n"
     ]
    },
    {
     "data": {
      "text/plain": [
       "True"
      ]
     },
     "execution_count": 1,
     "metadata": {},
     "output_type": "execute_result"
    }
   ],
   "source": [
    "import nltk\n",
    "nltk.download('punkt')"
   ]
  },
  {
   "cell_type": "code",
   "execution_count": 2,
   "id": "angry-large",
   "metadata": {},
   "outputs": [],
   "source": [
    "%load_ext autoreload\n",
    "%autoreload 2\n",
    "\n",
    "import pickle\n",
    "\n",
    "import pandas as pd\n",
    "from sklearn.model_selection import train_test_split\n",
    "from nltk.tokenize import word_tokenize\n",
    "\n",
    "from language_model import *\n",
    "from naive_bayes import *"
   ]
  },
  {
   "attachments": {},
   "cell_type": "markdown",
   "id": "potential-mason",
   "metadata": {},
   "source": [
    "## 1 N-gram Language Model [40 points]\n",
    "In this problem, you will train two language models on Yelp reviews, one word-level (up to trigrams) and the other character-level (up to 4-grams). The [dataset provided](https://www.kaggle.com/datasets/omkarsabnis/yelp-reviews-dataset?resource=download) is a subset of [a larger dataset](https://www.yelp.com/dataset) published by Yelp. We downloaded the file ```yelp.csv``` for you. To begin, you need to first load the data. Here we provide the code for you, but take a look at how we do it because you will need to load the data by yourself later."
   ]
  },
  {
   "cell_type": "code",
   "execution_count": 3,
   "id": "enormous-particular",
   "metadata": {},
   "outputs": [
    {
     "name": "stdout",
     "output_type": "stream",
     "text": [
      "trn_text:\n",
      "0       Consistent with the east coast stores, great f...\n",
      "1       I had a serious craving for Roti.  So glad I f...\n",
      "2       Cool atmosphere and good service.\\nThe food is...\n",
      "3       I loved this place! Amazing food and service. ...\n",
      "4       This is the pub burger you have been looking f...\n",
      "                              ...                        \n",
      "7995    Very relaxed atmosphere and employees are supe...\n",
      "7996    07/25/11\\n\\nI have a new crush... and it's Chr...\n",
      "7997    I've been frequenting the Dollar store for the...\n",
      "7998    I love the girls there. I get my eyebrows done...\n",
      "7999    Scale of 1-10 (multiple visits):\\n10 Food\\n9 S...\n",
      "Name: text, Length: 8000, dtype: object\n",
      "\n",
      "dev_text:\n",
      "0       We got here around midnight last Friday... the...\n",
      "1       Brought a friend from Louisiana here.  She say...\n",
      "2       Every friday, my dad and I eat here. We order ...\n",
      "3       My husband and I were really, really disappoin...\n",
      "4       Love this place!  Was in phoenix 3 weeks for w...\n",
      "                              ...                        \n",
      "1995    Recently a friend at the gallery was very exci...\n",
      "1996    If you have never been before you should reall...\n",
      "1997    Consistency every time i return in quality of ...\n",
      "1998    A clean shopping center with many classy optio...\n",
      "1999    What  a beautiful facility. Attention to detai...\n",
      "Name: text, Length: 2000, dtype: object\n"
     ]
    }
   ],
   "source": [
    "filename = 'yelp.csv'\n",
    "df = pd.read_csv(filename)\n",
    "\n",
    "all_text = df['text']\n",
    "\n",
    "trn_text, dev_text = train_test_split(all_text, test_size=0.2, random_state=42)\n",
    "trn_text, dev_text = trn_text.reset_index(drop=True), dev_text.reset_index(drop=True)\n",
    "print(\"trn_text:\")\n",
    "print(trn_text)\n",
    "print(\"\\ndev_text:\")\n",
    "print(dev_text)"
   ]
  },
  {
   "attachments": {},
   "cell_type": "markdown",
   "id": "latest-glance",
   "metadata": {},
   "source": [
    "### 1.1 Data processing and n-gram counts [10 points]\n",
    "Now you need to train your language models on these reviews. You need to implement the class ```NGramLM```. First, **fill in** the function ```get_ngram_counts``` to process the reviews and get the counts of all unigrams, bigrams, trigrams, and possibly four-grams (if character-level) in the reviews. You need to store the counts in the dictionary ```self.ngram_count```. This dictionary will contain dictionaries as values. For example, ```self.ngram_count[0]``` will be a dictionary containing all of the unigrams, and ```self.ngram_count[1]``` will be a dictionary containing all the bigrams.\n",
    "\n",
    "To access the count of a unigram, simply use it as a key in the unigram dictionary: ```self.ngram_count[0][\"word1\"]``` will be $C(word1)$.\n",
    "\n",
    "To access the count of a bigram (or trigram or four-gram), simply use a tuple: ```self.ngram_count[1][(\"word1\", \"word2\")]``` will be $C(word1, word2)$.\n",
    "\n",
    "Use the following rules when processing the reviews:\n",
    "- Prepend **two/three** &lt;s&gt; at the beginning of each review as BOS tokens (two for word-level model and three for character-level model), and append one &lt;/s&gt; at the end of a review as the EOS token. \n",
    "- Convert all letters to lowercase.\n",
    "- Tokenize each review. Use a word-level tokenizer (such as ```nltk.tokenize.word_tokenize```) for the word-level model and a character-level tokenizer (such as ```char_tokenizer```, defined below) for the character-level model. Do not split BOS and EOS tokens.\n",
    "- You will need to make the function ```get_ngram_counts``` flexible enough so that (1) it can operate on both the character-level and the word-level and (2) it can operate on a variety of ngram sizes (e.g. trigrams and four-grams)\n",
    "- Replace all tokens that occur < 2 times with \"UNK\". Note: for the character-level model, this means that all characters occuring less than once should be replaced with UNK.\n",
    "- Do **NOT** remove punctuation.\n",
    "\n",
    "Hint: ```collections.defaultdict``` is useful."
   ]
  },
  {
   "cell_type": "code",
   "execution_count": 4,
   "id": "superb-sympathy",
   "metadata": {},
   "outputs": [
    {
     "name": "stdout",
     "output_type": "stream",
     "text": [
      "Number of unigrams: 15986\n",
      "Unigram with smallest count: t.j.\tCount: 2\n",
      "Unknown unigram: 15278\n",
      "Number of BOS token: 16000\n",
      "Number of bigrams: 282350\n"
     ]
    }
   ],
   "source": [
    "bos_token, eos_token = '<s>', '</s>'\n",
    "ngram_size = 3 # Use trigrams\n",
    "word_lm = NGramLM(bos_token, eos_token, word_tokenize, ngram_size)\n",
    "word_lm.get_ngram_counts(trn_text.tolist())\n",
    "print(f\"Number of unigrams: {len(word_lm.ngram_count[0])}\")\n",
    "least_unigram = min(word_lm.ngram_count[0].keys(), key=lambda x: word_lm.ngram_count[0][x])\n",
    "print(f\"Unigram with smallest count: {least_unigram}\\tCount: {word_lm.ngram_count[0][least_unigram]}\")\n",
    "print(f\"Unknown unigram: {word_lm.ngram_count[0]['UNK']}\")\n",
    "print(f\"Number of BOS token: {word_lm.ngram_count[0][bos_token]}\")\n",
    "print(f\"Number of bigrams: {len(word_lm.ngram_count[1])}\")"
   ]
  },
  {
   "attachments": {},
   "cell_type": "markdown",
   "id": "3ef26743",
   "metadata": {},
   "source": [
    "Now that you have tested ```get_ngram_counts``` on the word-level model (above), test it on the character-level model below."
   ]
  },
  {
   "cell_type": "code",
   "execution_count": 5,
   "id": "ethical-giant",
   "metadata": {},
   "outputs": [
    {
     "name": "stdout",
     "output_type": "stream",
     "text": [
      "Number of unigrams: 83\n",
      "Unigram with smallest count: ü\tCount: 2\n",
      "Unknown unigram: 8\n",
      "Number of BOS token: 24000\n",
      "Number of bigrams: 2641\n"
     ]
    }
   ],
   "source": [
    "def char_tokenizer(text):\n",
    "    return [char for char in text]\n",
    "\n",
    "ngram_size = 4 # Use four-grams\n",
    "char_lm = NGramLM(bos_token, eos_token, char_tokenizer, ngram_size)\n",
    "char_lm.get_ngram_counts(trn_text.tolist())\n",
    "print(f\"Number of unigrams: {len(char_lm.ngram_count[0])}\")\n",
    "least_unigram = min(char_lm.ngram_count[0].keys(), key=lambda x: char_lm.ngram_count[0][x])\n",
    "print(f\"Unigram with smallest count: {least_unigram}\\tCount: {char_lm.ngram_count[0][least_unigram]}\")\n",
    "print(f\"Unknown unigram: {char_lm.ngram_count[0]['UNK']}\")\n",
    "print(f\"Number of BOS token: {char_lm.ngram_count[0][bos_token]}\")\n",
    "print(f\"Number of bigrams: {len(char_lm.ngram_count[1])}\")"
   ]
  },
  {
   "attachments": {},
   "cell_type": "markdown",
   "id": "peripheral-charge",
   "metadata": {},
   "source": [
    "### 1.2 Add-k Smoothing [5 points]\n",
    "As discussed in the lecture, simply counting the number of occurrence of n-grams will assign 0 probability to n-grams that don't appear in the training corpus and thus cannot generalize to unseen data. To mitigate this, you need to implement some smoothing techniques. **Fill in** the function ```add_k_prob``` so that given a bigram $(w_1, w_2)$, a unigram $w_3$, and $k$, return $p(w_3|(w_1, w_2))$ after applying add-k smoothing.<br>\n",
    "\n",
    "Notes: \n",
    "- Program this flexibly enough so that, for the character-level model, the model can smooth over trigrams and unigrams rather than bigrams and unigrams.\n",
    "- &lt;s&gt; should **NOT** be considered when calculating the vocabulary size because it will never be generated by the language model (although it's in ```self.unigram_count```). &lt;/s&gt; should be treated as a token in the vocabulary."
   ]
  },
  {
   "cell_type": "code",
   "execution_count": 6,
   "id": "substantial-trust",
   "metadata": {},
   "outputs": [
    {
     "name": "stdout",
     "output_type": "stream",
     "text": [
      "Vocabulary: ['</s>', '<s>', 'apple', 'circle', 'dot', 'triangle', 'the', 'red', 'blue', 'UNK']\n",
      "Probability of seen: 0.23076923076923078\n",
      "Probability of unseen: 0.07692307692307693\n"
     ]
    }
   ],
   "source": [
    "# prepare counts\n",
    "test_data = ['An apple', 'A circle', 'This dot', 'That triangle', 'The red apple', 'The red circle', 'The blue dot', 'The blue triangle']\n",
    "k = 0.5\n",
    "test_word_lm = NGramLM(bos_token, eos_token, word_tokenize, 3)\n",
    "test_word_lm.get_ngram_counts(test_data)\n",
    "print(f\"Vocabulary: {list(test_word_lm.ngram_count[0].keys())}\")\n",
    "# test\n",
    "bigram = ('the', 'red')\n",
    "unigram = 'apple'\n",
    "print(f\"Probability of seen: {test_word_lm.add_k_smooth_prob(bigram, unigram, k)}\")\n",
    "\n",
    "bigram = ('the', 'blue')\n",
    "unigram = 'apple'\n",
    "print(f\"Probability of unseen: {test_word_lm.add_k_smooth_prob(bigram, unigram, k)}\")"
   ]
  },
  {
   "attachments": {},
   "cell_type": "markdown",
   "id": "4bf1040d",
   "metadata": {},
   "source": [
    "Now test out the same smoothing code on the character-level model."
   ]
  },
  {
   "cell_type": "code",
   "execution_count": 7,
   "id": "unexpected-status",
   "metadata": {},
   "outputs": [
    {
     "name": "stdout",
     "output_type": "stream",
     "text": [
      "Vocabulary: ['</s>', '<s>', 'p', 'l', 'a', 'n', 't', 'UNK']\n",
      "Probability of seen: 0.5384615384615384\n",
      "Probability of unseen: 0.07692307692307693\n"
     ]
    }
   ],
   "source": [
    "test_data = ['plan', 'plant', 'planet']\n",
    "k = 0.5\n",
    "test_char_lm = NGramLM(bos_token, eos_token, char_tokenizer, 4)\n",
    "test_char_lm.get_ngram_counts(test_data)\n",
    "print(f\"Vocabulary: {list(test_char_lm.ngram_count[0].keys())}\")\n",
    "# test\n",
    "trigram = ('p', 'l', 'a')\n",
    "unigram = 'n'\n",
    "print(f\"Probability of seen: {test_char_lm.add_k_smooth_prob(trigram, unigram, k)}\")\n",
    "\n",
    "trigram = ('p', 'l', 'a')\n",
    "unigram = 't'\n",
    "print(f\"Probability of unseen: {test_char_lm.add_k_smooth_prob(trigram, unigram, k)}\")"
   ]
  },
  {
   "attachments": {},
   "cell_type": "markdown",
   "id": "yellow-respondent",
   "metadata": {},
   "source": [
    "### 1.3 Linear interpolation [4 points]\n",
    "Similarly, **fill in** the function ```linear_interp_prob``` so that given a bigram $(w_1, w_2)$, a unigram $w_3$, and list of values [$\\lambda_1$, $\\lambda_2$, $\\lambda_3$], return $p(w_3|(w_1, w_2))$ after applying linear interpolation.\n",
    "\n",
    "Once again, implement this flexibly enough to operate on four-grams for the character-level model."
   ]
  },
  {
   "cell_type": "code",
   "execution_count": 8,
   "id": "latest-summit",
   "metadata": {},
   "outputs": [
    {
     "name": "stdout",
     "output_type": "stream",
     "text": [
      "Probability of seen: 0.4090909090909091\n",
      "Probability of unseen: 0.009090909090909092\n"
     ]
    }
   ],
   "source": [
    "lambda1 = 0.6\n",
    "lambda2 = 0.2\n",
    "lambda3 = 0.2\n",
    "lambdas = [lambda1, lambda2, lambda3]\n",
    "\n",
    "bigram = ('the', 'red')\n",
    "unigram = 'apple'\n",
    "print(f\"Probability of seen: {test_word_lm.linear_interp_prob(bigram, unigram, lambdas)}\")\n",
    "\n",
    "bigram = ('the', 'blue')\n",
    "unigram = 'apple'\n",
    "print(f\"Probability of unseen: {test_word_lm.linear_interp_prob(bigram, unigram, lambdas)}\")"
   ]
  },
  {
   "attachments": {},
   "cell_type": "markdown",
   "id": "86807e66",
   "metadata": {},
   "source": [
    "Now test ```linear_interp_prob``` on the character-level model."
   ]
  },
  {
   "cell_type": "code",
   "execution_count": 9,
   "id": "accessible-debut",
   "metadata": {},
   "outputs": [
    {
     "name": "stdout",
     "output_type": "stream",
     "text": [
      "Probability of seen: 0.9111111111111111\n",
      "Probability of unseen: 0.007407407407407408\n"
     ]
    }
   ],
   "source": [
    "lambda1 = 0.6\n",
    "lambda2 = 0.2\n",
    "lambda3 = 0.1\n",
    "lambda4 = 0.1\n",
    "lambdas = [lambda1, lambda2, lambda3, lambda4]\n",
    "\n",
    "trigram = ('p', 'l', 'a')\n",
    "unigram = 'n'\n",
    "print(f\"Probability of seen: {test_char_lm.linear_interp_prob(trigram, unigram, lambdas)}\")\n",
    "\n",
    "trigram = ('p', 'l', 'a')\n",
    "unigram = 't'\n",
    "print(f\"Probability of unseen: {test_char_lm.linear_interp_prob(trigram, unigram, lambdas)}\")"
   ]
  },
  {
   "attachments": {},
   "cell_type": "markdown",
   "id": "front-cambridge",
   "metadata": {},
   "source": [
    "### 1.4 Calculate next word probability [2 points]\n",
    "**Fill in** the function ```get_probability``` that calculates $p(w_3|(w_1, w_2))$ using either add-k smoothing or linear interpolation that you implemented above. The input is a dictionary that specifies how should you do the smoothing. Once again, program this function flexibly so that it works in the character-level model as well."
   ]
  },
  {
   "cell_type": "code",
   "execution_count": 10,
   "id": "trying-delivery",
   "metadata": {},
   "outputs": [
    {
     "name": "stdout",
     "output_type": "stream",
     "text": [
      "Add-k smoothing: 0.1\n",
      "Linear interpolation: 0.009090909090909092\n"
     ]
    }
   ],
   "source": [
    "smoothing_args1 = {\n",
    "    'method': 'add_k',\n",
    "    'k': 0.5\n",
    "}\n",
    "smoothing_args2 = {\n",
    "    'method': 'linear',\n",
    "    'lambdas': [0.6, 0.2, 0.2]\n",
    "}\n",
    "bigram = ('a', 'red')\n",
    "unigram = 'dot'\n",
    "print(f\"Add-k smoothing: {test_word_lm.get_probability(bigram, unigram, smoothing_args1)}\")\n",
    "print(f\"Linear interpolation: {test_word_lm.get_probability(bigram, unigram, smoothing_args2)}\")"
   ]
  },
  {
   "attachments": {},
   "cell_type": "markdown",
   "id": "multiple-singer",
   "metadata": {},
   "source": [
    "### 1.5 Calculate perplexity [4 points]\n",
    "One way to evaluate the language model is to calculate its perplexity on some validation data. **Fill in** the function ```get_perplexity``` so that given a document and smoothing arguments, return the perplexity of the document. Remember to follow the **same** processing steps you used previously. To avoid underflow issue, remember to calculate the log of perplexity first. i.e., $PPL(W)=\\exp\\left(\\log\\left(\\sqrt[N]{\\prod_{i=1}^N{\\frac{1}{p(w_i|w_{i-2}w_{i-1})}}}\\right)\\right)=\\exp\\left(-\\frac{1}{N}\\sum_{i=1}^N{\\log{p(w_i|w_{i-2}w_{i-1})}}\\right)$, where $w_0=w_{-1}=$ &lt;s&gt; and $w_N=$ &lt;/s&gt;. Also, once again, remember to program this flexibly enough that it can work for both the word-level and character-level models."
   ]
  },
  {
   "cell_type": "code",
   "execution_count": 34,
   "id": "hawaiian-examination",
   "metadata": {},
   "outputs": [
    {
     "name": "stdout",
     "output_type": "stream",
     "text": [
      "Add-k smoothing: 9.203280590302498\n",
      "Linear interpolation: 20.18865104032038\n"
     ]
    }
   ],
   "source": [
    "text = \"This sentence contains unseen words.\"\n",
    "\n",
    "print(f\"Add-k smoothing: {test_word_lm.get_perplexity(text, smoothing_args1)}\")\n",
    "print(f\"Linear interpolation: {test_word_lm.get_perplexity(text, smoothing_args2)}\")"
   ]
  },
  {
   "attachments": {},
   "cell_type": "markdown",
   "id": "coupled-correlation",
   "metadata": {},
   "source": [
    "### 1.6 Search hyperparameters [6 points]\n",
    "Now you are ready to find your best language models! First find the best k value for the word-level model and for the character-level model using add-k smoothing. You need to search k in this list: \\[0.2, 0.4, 0.6, 0.8, 1.0\\].\n",
    "\n",
    "**Fill in** the function ```search_k``` such that given a validation set, return the best k value on it. Print out the perplexity (average on the whole validation set) for each k."
   ]
  },
  {
   "cell_type": "code",
   "execution_count": 37,
   "id": "acceptable-dealer",
   "metadata": {},
   "outputs": [
    {
     "name": "stdout",
     "output_type": "stream",
     "text": [
      "Word LM\n",
      "0.2 2820.384601124858\n",
      "0.4 4124.174526768626\n",
      "0.6 4812.606647438884\n",
      "0.8 5360.390887464602\n",
      "1.0 5818.268787762916\n",
      "Best k: 0.2\n",
      "Char LM\n",
      "0.2 4.8012217137095705\n",
      "0.4 4.870157790080677\n",
      "0.6 4.9317680940916055\n",
      "0.8 4.988632938951353\n",
      "1.0 5.041862533747498\n",
      "Best k: 0.2\n"
     ]
    }
   ],
   "source": [
    "print(\"Word LM\")\n",
    "word_k = word_lm.search_k(dev_text)\n",
    "print(f\"Best k: {word_k}\")\n",
    "print(\"Char LM\")\n",
    "char_k = char_lm.search_k(dev_text)\n",
    "print(f\"Best k: {char_k}\")"
   ]
  },
  {
   "attachments": {},
   "cell_type": "markdown",
   "id": "hydraulic-theorem",
   "metadata": {},
   "source": [
    "Similarly, **fill in** the function ```search_lambda``` such that, given a validation set, returns the best $\\lambda$ values on it. You need to choose the search list by yourself. Print out the best set of $\\lambda$ and corresponding perplexity. To get full credits, your perplexity scores need to be < 180 for the word-level model and < 15 for the character-level model.\n",
    "\n",
    "Note: this code block might take a couple minutes to run."
   ]
  },
  {
   "cell_type": "code",
   "execution_count": 57,
   "id": "blocked-monaco",
   "metadata": {},
   "outputs": [
    {
     "name": "stdout",
     "output_type": "stream",
     "text": [
      "Word LM\n",
      "[1.0, 1.0, 1.0] 52.24810700406032\n",
      "Char LM\n",
      "[1.0, 1.0, 1.0] 2.004374437386162\n"
     ]
    }
   ],
   "source": [
    "print(\"Word LM\")\n",
    "word_lambda = word_lm.search_lambda(dev_text)\n",
    "print(\"Char LM\")\n",
    "char_lambda = char_lm.search_lambda(dev_text)"
   ]
  },
  {
   "attachments": {},
   "cell_type": "markdown",
   "id": "d9616083",
   "metadata": {},
   "source": [
    "### 1.7 Generate reviews [5 points]\n",
    "Finally, you can automatically generate text using your language models. **Fill in** the function ```generate_text``` to generate a sentence based on an input prompt. To generate the text, you need to find the distribution of the next word given previous two words (or next character given the previous three characters). Then you need to sample the next word/character based on the distribution. After the word/character is sampled, append it to the current text and continue generating the next word/character. You need to repeat this process untill the current sequence **has 15 words/characters** (including prompts) or you **generate the &lt;/s&gt; token**.\n",
    "\n",
    "Note that there exist more advanced methods to generate text from language models such as beam search, top-k sampling, and top-p sampling. You can refer to [this blog](https://huggingface.co/blog/how-to-generate) to get an idea of what they mean. In this assignment, you are not required to implement the advanced methods. Simply sampling from the trigram/four-gram distribution is good enough.\n",
    "\n",
    "Begin with the word-level model here:"
   ]
  },
  {
   "cell_type": "code",
   "execution_count": 77,
   "id": "cb9d1e55",
   "metadata": {},
   "outputs": [
    {
     "name": "stdout",
     "output_type": "stream",
     "text": [
      "Word LM\n",
      "<s> <s> the location family-style nothing feast heaters rising saguaros omelet excessive ambrosia zuma neon helping collards\n",
      "Word LM\n",
      "<s> <s> we ate all-day august uneaten item knowledge britain relevant mackerel connections meaningful 5s updating refreshing\n",
      "Word LM\n",
      "<s> <s> i thought it would chirping newborn needed pockets iruna book tipping bragging cooper 1/2lb sucked\n",
      "Word LM\n",
      "<s> <s> it had classics skin yea allergy frenzy are total zinc menus elderly figured framed half\n"
     ]
    }
   ],
   "source": [
    "prompts = [['The', 'location'], ['We', 'ate'], ['I', 'thought'], ['It', 'had']]\n",
    "for prompt in prompts:\n",
    "    print(\"Word LM\")\n",
    "    word_lm.generate_text(prompt, smoothing_args1)"
   ]
  },
  {
   "attachments": {},
   "cell_type": "markdown",
   "id": "49b7b51a",
   "metadata": {},
   "source": [
    "Now test the character-level model:"
   ]
  },
  {
   "cell_type": "code",
   "execution_count": 88,
   "id": "0774fc2f",
   "metadata": {},
   "outputs": [
    {
     "name": "stdout",
     "output_type": "stream",
     "text": [
      "Char LM\n",
      "<s><s><s>the store head2\n",
      "Char LM\n",
      "<s><s><s>we ate anything\n"
     ]
    }
   ],
   "source": [
    "prompts = ['The store', 'We ate']\n",
    "for prompt in prompts:\n",
    "    print(\"Char LM\")\n",
    "    prompt_tokenized = char_tokenizer(prompt)\n",
    "    char_lm.generate_text(prompt_tokenized, smoothing_args1)"
   ]
  },
  {
   "attachments": {},
   "cell_type": "markdown",
   "id": "swiss-dining",
   "metadata": {},
   "source": [
    "### 1.8 Predict the class of a review [4 points]\n",
    "The Yelp review dataset contains several columns specifying attributes of each review:\n",
    "- ```stars``` indicates on a scale from 1 to 5 how many stars the reviewer gave in the review\n",
    "- ```cool```, ```useful```, and ```funny``` all indicate how many users rated the review as cool, useful or funny\n",
    "\n",
    "Using the same techniques developed above, this section requires you to do the following:\n",
    "- Fill in the function ```load_new_data``` to generate a split in the data. For instance, one class could be reviews with at least one funny rating and the opposing class could be reviews not marked as funny by anyone. In this function, use the techniques at the beginning of the notebook to split the overall dataset into two classes and then again into a training and dev dataset for each class\n",
    "- Fill in the function ```predict_class``` to predict the class to which the review in ```test_review.txt``` belongs. This function will take in two word-level language models (each trained on the training data for one class) and compute the probability of the review generated by each language model. I.e., $p(W|LM_1)$ and $p(W|LM_2)$, or equivalently $PPL(W)$ based on $LM_1$ and $LM_2$. Print out the perplexity of each language model and your prediction.\n",
    "\n",
    "The test review used has the following attributes:\n",
    "- ```stars``` : 2\n",
    "- ```useful``` : 3\n",
    "- ```funny``` : 7\n",
    "- ```cool``` : 3"
   ]
  },
  {
   "cell_type": "code",
   "execution_count": 106,
   "id": "2d518758",
   "metadata": {},
   "outputs": [
    {
     "data": {
      "text/plain": [
       "defaultdict(int,\n",
       "            {'</s>': 10,\n",
       "             '<s>': 20,\n",
       "             'UNK': 10,\n",
       "             'they': 0,\n",
       "             'seriously': 0,\n",
       "             'served': 0,\n",
       "             'us': 0,\n",
       "             'sushi': 0,\n",
       "             'on': 0,\n",
       "             'pringles': 0,\n",
       "             '!': 0,\n",
       "             'i': 0,\n",
       "             'am': 0,\n",
       "             'not': 0,\n",
       "             'even': 0,\n",
       "             'lying': 0,\n",
       "             '.': 0,\n",
       "             'forget': 0,\n",
       "             'what': 0,\n",
       "             'appetizer': 0,\n",
       "             'this': 0,\n",
       "             'was': 0,\n",
       "             'we': 0,\n",
       "             'ordered': 0,\n",
       "             'but': 0,\n",
       "             'it': 0,\n",
       "             'came': 0,\n",
       "             'out': 0,\n",
       "             'there': 0,\n",
       "             \"'s\": 0,\n",
       "             'inventive': 0,\n",
       "             'and': 0,\n",
       "             'cheesey': 0,\n",
       "             'everytime': 0,\n",
       "             'think': 0,\n",
       "             'about': 0,\n",
       "             'that': 0,\n",
       "             ',': 0,\n",
       "             'kitchen': 0,\n",
       "             'nitemares': 0,\n",
       "             'with': 0,\n",
       "             'gordon': 0,\n",
       "             'ramsey': 0,\n",
       "             'the': 0,\n",
       "             'hell': 0,\n",
       "             'he': 0,\n",
       "             \"'d\": 0,\n",
       "             'have': 0,\n",
       "             'to': 0,\n",
       "             'say': 0,\n",
       "             'if': 0,\n",
       "             '\\\\n\\\\nthat': 0,\n",
       "             'said': 0,\n",
       "             'rest': 0,\n",
       "             'of': 0,\n",
       "             'food': 0,\n",
       "             'ok': 0,\n",
       "             '--': 0,\n",
       "             'may': 0,\n",
       "             'go': 0,\n",
       "             'back': 0,\n",
       "             'for': 0,\n",
       "             'all': 0,\n",
       "             'you': 0,\n",
       "             'can': 0,\n",
       "             'eat': 0,\n",
       "             'which': 0,\n",
       "             'started': 0,\n",
       "             'after': 0,\n",
       "             'incident': 0,\n",
       "             'being': 0,\n",
       "             'lost': 0,\n",
       "             'place': 0,\n",
       "             'a': 0,\n",
       "             'star.\\\\n\\\\npringles': 0,\n",
       "             'quiessence': 0,\n",
       "             'Quiessence': 0})"
      ]
     },
     "execution_count": 106,
     "metadata": {},
     "output_type": "execute_result"
    }
   ],
   "source": [
    "class1_lm.ngram_count[0]"
   ]
  },
  {
   "cell_type": "code",
   "execution_count": 108,
   "id": "1a6e692a",
   "metadata": {},
   "outputs": [
    {
     "data": {
      "text/html": [
       "<div>\n",
       "<style scoped>\n",
       "    .dataframe tbody tr th:only-of-type {\n",
       "        vertical-align: middle;\n",
       "    }\n",
       "\n",
       "    .dataframe tbody tr th {\n",
       "        vertical-align: top;\n",
       "    }\n",
       "\n",
       "    .dataframe thead th {\n",
       "        text-align: right;\n",
       "    }\n",
       "</style>\n",
       "<table border=\"1\" class=\"dataframe\">\n",
       "  <thead>\n",
       "    <tr style=\"text-align: right;\">\n",
       "      <th></th>\n",
       "      <th>business_id</th>\n",
       "      <th>date</th>\n",
       "      <th>review_id</th>\n",
       "      <th>stars</th>\n",
       "      <th>text</th>\n",
       "      <th>type</th>\n",
       "      <th>user_id</th>\n",
       "      <th>cool</th>\n",
       "      <th>useful</th>\n",
       "      <th>funny</th>\n",
       "    </tr>\n",
       "  </thead>\n",
       "  <tbody>\n",
       "    <tr>\n",
       "      <th>6631</th>\n",
       "      <td>UL3OMN_c-NXHlyb97pDifA</td>\n",
       "      <td>2007-03-05</td>\n",
       "      <td>sIL0cWiSYHDa4ZaxbxO80w</td>\n",
       "      <td>4</td>\n",
       "      <td>I am not a big beer drinker, so I can't attest...</td>\n",
       "      <td>review</td>\n",
       "      <td>0CMz8YaO3f8xu4KqQgKb9Q</td>\n",
       "      <td>0</td>\n",
       "      <td>1</td>\n",
       "      <td>2</td>\n",
       "    </tr>\n",
       "    <tr>\n",
       "      <th>8705</th>\n",
       "      <td>VFjeCLwVMguUNWH-DeOgyw</td>\n",
       "      <td>2012-11-03</td>\n",
       "      <td>pOzGCqEIT1ATSwhvlkcVKQ</td>\n",
       "      <td>2</td>\n",
       "      <td>Seriously the most pathetic burger I've had......</td>\n",
       "      <td>review</td>\n",
       "      <td>Hnlxl7kQRem4uOnbgLEcIQ</td>\n",
       "      <td>0</td>\n",
       "      <td>1</td>\n",
       "      <td>1</td>\n",
       "    </tr>\n",
       "    <tr>\n",
       "      <th>6494</th>\n",
       "      <td>l3yL2rQ6PoFBQ06RLczn9w</td>\n",
       "      <td>2010-08-08</td>\n",
       "      <td>nallZ2KPMBbdZ2_nvTB8Ig</td>\n",
       "      <td>4</td>\n",
       "      <td>Despite all the recent bad reviews of this pla...</td>\n",
       "      <td>review</td>\n",
       "      <td>Yk37VAp452K7FwHWd1rrQw</td>\n",
       "      <td>2</td>\n",
       "      <td>1</td>\n",
       "      <td>1</td>\n",
       "    </tr>\n",
       "    <tr>\n",
       "      <th>2065</th>\n",
       "      <td>jJhNOhuGpIsJX5SEUFFWYQ</td>\n",
       "      <td>2012-12-27</td>\n",
       "      <td>tPgHu1UT0ZW23vVKuC5y7g</td>\n",
       "      <td>5</td>\n",
       "      <td>You like hotdogs?  Motor (thats me) says get i...</td>\n",
       "      <td>review</td>\n",
       "      <td>ehtcnF3Ebvq23p107LcsuA</td>\n",
       "      <td>1</td>\n",
       "      <td>1</td>\n",
       "      <td>1</td>\n",
       "    </tr>\n",
       "    <tr>\n",
       "      <th>6952</th>\n",
       "      <td>-O7H5LhBkE13VQZB0QZI0Q</td>\n",
       "      <td>2007-08-19</td>\n",
       "      <td>p2HAjzANC80wzLAZzZEL0g</td>\n",
       "      <td>2</td>\n",
       "      <td>I spent most of my first year being legal drin...</td>\n",
       "      <td>review</td>\n",
       "      <td>nWouNfZD3Pw08RYizxkqcA</td>\n",
       "      <td>1</td>\n",
       "      <td>1</td>\n",
       "      <td>1</td>\n",
       "    </tr>\n",
       "    <tr>\n",
       "      <th>...</th>\n",
       "      <td>...</td>\n",
       "      <td>...</td>\n",
       "      <td>...</td>\n",
       "      <td>...</td>\n",
       "      <td>...</td>\n",
       "      <td>...</td>\n",
       "      <td>...</td>\n",
       "      <td>...</td>\n",
       "      <td>...</td>\n",
       "      <td>...</td>\n",
       "    </tr>\n",
       "    <tr>\n",
       "      <th>5406</th>\n",
       "      <td>oajNY_oTIMb7YZsor7Xonw</td>\n",
       "      <td>2010-03-03</td>\n",
       "      <td>4Ve2VD_MkSl1GrHU0i9QtA</td>\n",
       "      <td>4</td>\n",
       "      <td>This review is slightly bias, seeing that I wa...</td>\n",
       "      <td>review</td>\n",
       "      <td>IO3AsR6cdMto7VCwfPzf2w</td>\n",
       "      <td>2</td>\n",
       "      <td>3</td>\n",
       "      <td>1</td>\n",
       "    </tr>\n",
       "    <tr>\n",
       "      <th>3626</th>\n",
       "      <td>r-a-Cn9hxdEnYTtVTB5bMQ</td>\n",
       "      <td>2012-07-16</td>\n",
       "      <td>Q35fzO1VUcU5pxB_5INOrw</td>\n",
       "      <td>3</td>\n",
       "      <td>So, if I rated The Grind based solely on the S...</td>\n",
       "      <td>review</td>\n",
       "      <td>fl6oI21uXoxVMwfR6lFanQ</td>\n",
       "      <td>2</td>\n",
       "      <td>2</td>\n",
       "      <td>1</td>\n",
       "    </tr>\n",
       "    <tr>\n",
       "      <th>3718</th>\n",
       "      <td>KqPY02NlTaM8YALIhsswGw</td>\n",
       "      <td>2011-05-09</td>\n",
       "      <td>ISm8JIelDBN_O7L1QVRYAA</td>\n",
       "      <td>3</td>\n",
       "      <td>This is a huge improvement over the last bar t...</td>\n",
       "      <td>review</td>\n",
       "      <td>90a6z--_CUrl84aCzZyPsg</td>\n",
       "      <td>3</td>\n",
       "      <td>4</td>\n",
       "      <td>1</td>\n",
       "    </tr>\n",
       "    <tr>\n",
       "      <th>4204</th>\n",
       "      <td>PwxvN0SnAGPdqXdNEYVT3g</td>\n",
       "      <td>2010-10-14</td>\n",
       "      <td>YCsc27ojakWvydasLcYAGw</td>\n",
       "      <td>5</td>\n",
       "      <td>Had lunch at Bliss again ... still yummy as al...</td>\n",
       "      <td>review</td>\n",
       "      <td>B63qAIvH3jVUlA6ssqVSnA</td>\n",
       "      <td>1</td>\n",
       "      <td>1</td>\n",
       "      <td>1</td>\n",
       "    </tr>\n",
       "    <tr>\n",
       "      <th>2882</th>\n",
       "      <td>hiXt1iC9nJh3--kz80zRtA</td>\n",
       "      <td>2012-12-20</td>\n",
       "      <td>Y983pjmasC5VTRsz-ChKEw</td>\n",
       "      <td>4</td>\n",
       "      <td>Love this place, sushi is good and great custo...</td>\n",
       "      <td>review</td>\n",
       "      <td>lSB6eL4Tf1ot7S2dy9sKEA</td>\n",
       "      <td>1</td>\n",
       "      <td>1</td>\n",
       "      <td>1</td>\n",
       "    </tr>\n",
       "  </tbody>\n",
       "</table>\n",
       "<p>2389 rows × 10 columns</p>\n",
       "</div>"
      ],
      "text/plain": [
       "                 business_id        date               review_id  stars  \\\n",
       "6631  UL3OMN_c-NXHlyb97pDifA  2007-03-05  sIL0cWiSYHDa4ZaxbxO80w      4   \n",
       "8705  VFjeCLwVMguUNWH-DeOgyw  2012-11-03  pOzGCqEIT1ATSwhvlkcVKQ      2   \n",
       "6494  l3yL2rQ6PoFBQ06RLczn9w  2010-08-08  nallZ2KPMBbdZ2_nvTB8Ig      4   \n",
       "2065  jJhNOhuGpIsJX5SEUFFWYQ  2012-12-27  tPgHu1UT0ZW23vVKuC5y7g      5   \n",
       "6952  -O7H5LhBkE13VQZB0QZI0Q  2007-08-19  p2HAjzANC80wzLAZzZEL0g      2   \n",
       "...                      ...         ...                     ...    ...   \n",
       "5406  oajNY_oTIMb7YZsor7Xonw  2010-03-03  4Ve2VD_MkSl1GrHU0i9QtA      4   \n",
       "3626  r-a-Cn9hxdEnYTtVTB5bMQ  2012-07-16  Q35fzO1VUcU5pxB_5INOrw      3   \n",
       "3718  KqPY02NlTaM8YALIhsswGw  2011-05-09  ISm8JIelDBN_O7L1QVRYAA      3   \n",
       "4204  PwxvN0SnAGPdqXdNEYVT3g  2010-10-14  YCsc27ojakWvydasLcYAGw      5   \n",
       "2882  hiXt1iC9nJh3--kz80zRtA  2012-12-20  Y983pjmasC5VTRsz-ChKEw      4   \n",
       "\n",
       "                                                   text    type  \\\n",
       "6631  I am not a big beer drinker, so I can't attest...  review   \n",
       "8705  Seriously the most pathetic burger I've had......  review   \n",
       "6494  Despite all the recent bad reviews of this pla...  review   \n",
       "2065  You like hotdogs?  Motor (thats me) says get i...  review   \n",
       "6952  I spent most of my first year being legal drin...  review   \n",
       "...                                                 ...     ...   \n",
       "5406  This review is slightly bias, seeing that I wa...  review   \n",
       "3626  So, if I rated The Grind based solely on the S...  review   \n",
       "3718  This is a huge improvement over the last bar t...  review   \n",
       "4204  Had lunch at Bliss again ... still yummy as al...  review   \n",
       "2882  Love this place, sushi is good and great custo...  review   \n",
       "\n",
       "                     user_id  cool  useful  funny  \n",
       "6631  0CMz8YaO3f8xu4KqQgKb9Q     0       1      2  \n",
       "8705  Hnlxl7kQRem4uOnbgLEcIQ     0       1      1  \n",
       "6494  Yk37VAp452K7FwHWd1rrQw     2       1      1  \n",
       "2065  ehtcnF3Ebvq23p107LcsuA     1       1      1  \n",
       "6952  nWouNfZD3Pw08RYizxkqcA     1       1      1  \n",
       "...                      ...   ...     ...    ...  \n",
       "5406  IO3AsR6cdMto7VCwfPzf2w     2       3      1  \n",
       "3626  fl6oI21uXoxVMwfR6lFanQ     2       2      1  \n",
       "3718  90a6z--_CUrl84aCzZyPsg     3       4      1  \n",
       "4204  B63qAIvH3jVUlA6ssqVSnA     1       1      1  \n",
       "2882  lSB6eL4Tf1ot7S2dy9sKEA     1       1      1  \n",
       "\n",
       "[2389 rows x 10 columns]"
      ]
     },
     "execution_count": 108,
     "metadata": {},
     "output_type": "execute_result"
    }
   ],
   "source": [
    "class1_trn"
   ]
  },
  {
   "cell_type": "code",
   "execution_count": 115,
   "id": "aware-craft",
   "metadata": {},
   "outputs": [
    {
     "data": {
      "text/html": [
       "<div>\n",
       "<style scoped>\n",
       "    .dataframe tbody tr th:only-of-type {\n",
       "        vertical-align: middle;\n",
       "    }\n",
       "\n",
       "    .dataframe tbody tr th {\n",
       "        vertical-align: top;\n",
       "    }\n",
       "\n",
       "    .dataframe thead th {\n",
       "        text-align: right;\n",
       "    }\n",
       "</style>\n",
       "<table border=\"1\" class=\"dataframe\">\n",
       "  <thead>\n",
       "    <tr style=\"text-align: right;\">\n",
       "      <th></th>\n",
       "      <th>text</th>\n",
       "      <th>funny</th>\n",
       "    </tr>\n",
       "  </thead>\n",
       "  <tbody>\n",
       "    <tr>\n",
       "      <th>5</th>\n",
       "      <td>Quiessence is, simply put, beautiful.  Full wi...</td>\n",
       "      <td>1</td>\n",
       "    </tr>\n",
       "    <tr>\n",
       "      <th>6</th>\n",
       "      <td>Drop what you're doing and drive here. After I...</td>\n",
       "      <td>4</td>\n",
       "    </tr>\n",
       "    <tr>\n",
       "      <th>10</th>\n",
       "      <td>The oldish man who owns the store is as sweet ...</td>\n",
       "      <td>1</td>\n",
       "    </tr>\n",
       "    <tr>\n",
       "      <th>16</th>\n",
       "      <td>We went here on a Saturday afternoon and this ...</td>\n",
       "      <td>2</td>\n",
       "    </tr>\n",
       "    <tr>\n",
       "      <th>18</th>\n",
       "      <td>I met a friend for lunch yesterday. \\n\\nLoved ...</td>\n",
       "      <td>4</td>\n",
       "    </tr>\n",
       "    <tr>\n",
       "      <th>...</th>\n",
       "      <td>...</td>\n",
       "      <td>...</td>\n",
       "    </tr>\n",
       "    <tr>\n",
       "      <th>9983</th>\n",
       "      <td>3.5 stars. \\n\\nWe decided to check this place ...</td>\n",
       "      <td>1</td>\n",
       "    </tr>\n",
       "    <tr>\n",
       "      <th>9984</th>\n",
       "      <td>Went last night to Whore Foods to get basics t...</td>\n",
       "      <td>2</td>\n",
       "    </tr>\n",
       "    <tr>\n",
       "      <th>9990</th>\n",
       "      <td>Yes I do rock the hipster joints.  I dig this ...</td>\n",
       "      <td>1</td>\n",
       "    </tr>\n",
       "    <tr>\n",
       "      <th>9992</th>\n",
       "      <td>I'm not normally one to jump at reviewing a ch...</td>\n",
       "      <td>2</td>\n",
       "    </tr>\n",
       "    <tr>\n",
       "      <th>9994</th>\n",
       "      <td>Let's see...what is there NOT to like about Su...</td>\n",
       "      <td>1</td>\n",
       "    </tr>\n",
       "  </tbody>\n",
       "</table>\n",
       "<p>2987 rows × 2 columns</p>\n",
       "</div>"
      ],
      "text/plain": [
       "                                                   text  funny\n",
       "5     Quiessence is, simply put, beautiful.  Full wi...      1\n",
       "6     Drop what you're doing and drive here. After I...      4\n",
       "10    The oldish man who owns the store is as sweet ...      1\n",
       "16    We went here on a Saturday afternoon and this ...      2\n",
       "18    I met a friend for lunch yesterday. \\n\\nLoved ...      4\n",
       "...                                                 ...    ...\n",
       "9983  3.5 stars. \\n\\nWe decided to check this place ...      1\n",
       "9984  Went last night to Whore Foods to get basics t...      2\n",
       "9990  Yes I do rock the hipster joints.  I dig this ...      1\n",
       "9992  I'm not normally one to jump at reviewing a ch...      2\n",
       "9994  Let's see...what is there NOT to like about Su...      1\n",
       "\n",
       "[2987 rows x 2 columns]"
      ]
     },
     "metadata": {},
     "output_type": "display_data"
    },
    {
     "data": {
      "text/html": [
       "<div>\n",
       "<style scoped>\n",
       "    .dataframe tbody tr th:only-of-type {\n",
       "        vertical-align: middle;\n",
       "    }\n",
       "\n",
       "    .dataframe tbody tr th {\n",
       "        vertical-align: top;\n",
       "    }\n",
       "\n",
       "    .dataframe thead th {\n",
       "        text-align: right;\n",
       "    }\n",
       "</style>\n",
       "<table border=\"1\" class=\"dataframe\">\n",
       "  <thead>\n",
       "    <tr style=\"text-align: right;\">\n",
       "      <th></th>\n",
       "      <th>text</th>\n",
       "      <th>funny</th>\n",
       "    </tr>\n",
       "  </thead>\n",
       "  <tbody>\n",
       "    <tr>\n",
       "      <th>0</th>\n",
       "      <td>My wife took me here on my birthday for breakf...</td>\n",
       "      <td>0</td>\n",
       "    </tr>\n",
       "    <tr>\n",
       "      <th>1</th>\n",
       "      <td>I have no idea why some people give bad review...</td>\n",
       "      <td>0</td>\n",
       "    </tr>\n",
       "    <tr>\n",
       "      <th>2</th>\n",
       "      <td>love the gyro plate. Rice is so good and I als...</td>\n",
       "      <td>0</td>\n",
       "    </tr>\n",
       "    <tr>\n",
       "      <th>3</th>\n",
       "      <td>Rosie, Dakota, and I LOVE Chaparral Dog Park!!...</td>\n",
       "      <td>0</td>\n",
       "    </tr>\n",
       "    <tr>\n",
       "      <th>4</th>\n",
       "      <td>General Manager Scott Petello is a good egg!!!...</td>\n",
       "      <td>0</td>\n",
       "    </tr>\n",
       "    <tr>\n",
       "      <th>...</th>\n",
       "      <td>...</td>\n",
       "      <td>...</td>\n",
       "    </tr>\n",
       "    <tr>\n",
       "      <th>9995</th>\n",
       "      <td>First visit...Had lunch here today - used my G...</td>\n",
       "      <td>0</td>\n",
       "    </tr>\n",
       "    <tr>\n",
       "      <th>9996</th>\n",
       "      <td>Should be called house of deliciousness!\\n\\nI ...</td>\n",
       "      <td>0</td>\n",
       "    </tr>\n",
       "    <tr>\n",
       "      <th>9997</th>\n",
       "      <td>I recently visited Olive and Ivy for business ...</td>\n",
       "      <td>0</td>\n",
       "    </tr>\n",
       "    <tr>\n",
       "      <th>9998</th>\n",
       "      <td>My nephew just moved to Scottsdale recently so...</td>\n",
       "      <td>0</td>\n",
       "    </tr>\n",
       "    <tr>\n",
       "      <th>9999</th>\n",
       "      <td>4-5 locations.. all 4.5 star average.. I think...</td>\n",
       "      <td>0</td>\n",
       "    </tr>\n",
       "  </tbody>\n",
       "</table>\n",
       "<p>7013 rows × 2 columns</p>\n",
       "</div>"
      ],
      "text/plain": [
       "                                                   text  funny\n",
       "0     My wife took me here on my birthday for breakf...      0\n",
       "1     I have no idea why some people give bad review...      0\n",
       "2     love the gyro plate. Rice is so good and I als...      0\n",
       "3     Rosie, Dakota, and I LOVE Chaparral Dog Park!!...      0\n",
       "4     General Manager Scott Petello is a good egg!!!...      0\n",
       "...                                                 ...    ...\n",
       "9995  First visit...Had lunch here today - used my G...      0\n",
       "9996  Should be called house of deliciousness!\\n\\nI ...      0\n",
       "9997  I recently visited Olive and Ivy for business ...      0\n",
       "9998  My nephew just moved to Scottsdale recently so...      0\n",
       "9999  4-5 locations.. all 4.5 star average.. I think...      0\n",
       "\n",
       "[7013 rows x 2 columns]"
      ]
     },
     "metadata": {},
     "output_type": "display_data"
    },
    {
     "name": "stdout",
     "output_type": "stream",
     "text": [
      "Perplexity for class1_lm: 41.98118996061348\n",
      "Perplexity for class2_lm: 46.0936159546563\n",
      "It is in class 1\n"
     ]
    }
   ],
   "source": [
    "filename = 'yelp.csv'\n",
    "df = pd.read_csv(filename)\n",
    "\n",
    "smoothing_args = {\n",
    "    'method': 'linear',\n",
    "    'lambdas': word_lambda\n",
    "}\n",
    "\n",
    "class1_trn, class1_dev, class2_trn, class2_dev = load_new_data(df)\n",
    "\n",
    "class1_lm = NGramLM(bos_token, eos_token, word_tokenize, 3)\n",
    "class1_lm.get_ngram_counts(class1_trn.tolist())\n",
    "\n",
    "class2_lm = NGramLM(bos_token, eos_token, word_tokenize, 3)\n",
    "class2_lm.get_ngram_counts(class2_trn.tolist())\n",
    "\n",
    "predict_class('test_review.txt', class1_lm, class2_lm, smoothing_args)"
   ]
  },
  {
   "cell_type": "code",
   "execution_count": null,
   "id": "699ad289",
   "metadata": {},
   "outputs": [],
   "source": [
    "3.8817050410117306"
   ]
  },
  {
   "attachments": {},
   "cell_type": "markdown",
   "id": "regular-poison",
   "metadata": {},
   "source": [
    "## 2 Naive Bayes for Text Classification [29 points]\n",
    "In this problem, you will build naive bayes classifiers to do text classification. You will use the clickbait headlines dataset, which contains examples of legitimate news headlines and clickbait news headlines. The original dataset can be found in [this GitHub repository](https://github.com/bhargaviparanjape/clickbait) and [this paper](https://arxiv.org/abs/1610.09786).\n",
    "### 2.1 Load dataset [4 points]\n",
    "To get started, **fill in** the function ```load_headlines``` to load the clickbait dataset into pandas dataframes. The file ```clickbait_data.csv``` contains a partially processed subset of the data. It contains two columns: (1) ```is_clickbait``` is 1 when the row contains a clickbait headline and 0 when it doesn't and (2) ```text```, which contains the headline itself.\n",
    "\n",
    "To get started, **fill in** the function ```load_headlines``` to load the clickbait dataset into a pandas dataframe. To do this, you will need to do the following:\n",
    "\n",
    "1. Read in the ```text``` and ```is_clickbait``` columns.\n",
    "2. Rename the ```is_clickbait``` column to ```label```"
   ]
  },
  {
   "cell_type": "code",
   "execution_count": null,
   "id": "realistic-execution",
   "metadata": {},
   "outputs": [],
   "source": [
    "all_data = load_headlines('clickbait_data.csv')\n",
    "\n",
    "(train, test) = train_test_split(all_data, train_size=0.9)\n",
    "\n",
    "display(train)\n",
    "display(test)"
   ]
  },
  {
   "attachments": {},
   "cell_type": "markdown",
   "id": "earlier-spank",
   "metadata": {},
   "source": [
    "### 2.2 Dataset statistics [3 points]\n",
    "Before start training classifiers, you need to calculate some basic statistics of the dataset. **Fill in** the function ```get_basic_stats``` to print out the following statistics of the training data:\n",
    "- Average number of tokens per headline\n",
    "- Standard deviation of the number of tokens per headline\n",
    "- Total number of legitimate headlines\n",
    "- Total number of clickbait headlines\n",
    "\n",
    "Note: you can use any tokenization method you like."
   ]
  },
  {
   "cell_type": "code",
   "execution_count": null,
   "id": "sticky-account",
   "metadata": {},
   "outputs": [],
   "source": [
    "get_basic_stats(train)"
   ]
  },
  {
   "attachments": {},
   "cell_type": "markdown",
   "id": "exterior-rental",
   "metadata": {},
   "source": [
    "### 2.3 Data processing and ngram calculation [6 points]\n",
    "Now you need to calculate the ngram counts. **Fill in** the function ```fit``` that, given a dataframe of training data, calculates the ngram counts in each category and the prior probability for each category. Concretely, **store** the total occurrence of each ngram in each category in a list called ```self.ngram_count``` so that ```self.ngram_count[0]``` contains $count(w, c_0)$ for all $w$ in the vocabulary, and ```self.ngram_count[1]``` contains $count(w, c_1)$, etc. ```self.ngram_count[i]``` should be an array of shape $(1,|V|)$, where $V$ is the vocabulary. **Store** the total occurrence of all ngrams in each category in a list called ```self.total_count``` so that ```self.total_count[0]``` $=\\sum_{w\\in V}count(w, c_0)$, and ```self.total_count[1]``` $=\\sum_{w\\in V}count(w, c_1)$, etc. **Store** the prior probability for each category in ```self.category_prob```. You need to follow these rules when calculating the counts:\n",
    "- convert all letters to lowercase;\n",
    "- include both unigrams and bigrams;\n",
    "- ignore terms that appear in more than 80\\% of the headlines;\n",
    "- ignore terms that appear in less than 3 headlines.\n",
    "\n",
    "Hint: use ```CountVectorizer``` in sklearn and store it as ```self.vectorizer```. You need to use **both legitimate and clickbait headlines** to get the vocabulary."
   ]
  },
  {
   "cell_type": "code",
   "execution_count": null,
   "id": "personalized-opening",
   "metadata": {},
   "outputs": [],
   "source": [
    "naive_bayes = NaiveBayes()\n",
    "naive_bayes.fit(train)\n",
    "print(f\"Probability for each category: {naive_bayes.category_prob}\")\n",
    "print(f\"Length of self.ngram_count: {len(naive_bayes.ngram_count)}\")\n",
    "print(f\"Shape of the counts for 1st category: {naive_bayes.ngram_count[0].shape}\")\n",
    "print(f\"Number of non-zero terms for 1st category: {(naive_bayes.ngram_count[0] > 0).sum()}\")\n",
    "print(f\"Maximum count of the 1st category: {naive_bayes.ngram_count[0].max()}\")\n",
    "print(f\"Minimum count of the 1st category: {naive_bayes.ngram_count[0].min()}\")\n",
    "print(f\"Sum of ngram count for 1st category: {naive_bayes.ngram_count[0].sum()}\")\n",
    "print(f\"Total count for each category: {naive_bayes.total_count}\")"
   ]
  },
  {
   "attachments": {},
   "cell_type": "markdown",
   "id": "blind-decimal",
   "metadata": {},
   "source": [
    "### 2.4 Calculate posterior probability for a category [4 points]\n",
    "Next, you will use the vectorizer and ngram counts to calculate the posterior probability of a category. In this homework, we have two categories: legitimate and clickbait. **Fill in** the function ```calculate_prob``` that given a list of articles $docs$, a category index $i$, return $\\log\\left(p(c_i)p(d|c_i)\\right)=\\log\\left(p(c_i)\\prod_{x\\in X}p(x|c_i)\\right)$ for each article $d$ in $docs$, where $X$ is the set of unigrams and bigrams in **both** article $d$ and vocabulary $V$. Use **add-one smoothing** in your calculation and calculate the **sum of log** to avoid underflow issue."
   ]
  },
  {
   "cell_type": "code",
   "execution_count": null,
   "id": "brave-determination",
   "metadata": {},
   "outputs": [],
   "source": [
    "test_docs = [\"United Kingdom officially exits the European Union\",\n",
    " \"How to Lose a Guy in 10 Days\"]\n",
    "prob1 = naive_bayes.calculate_prob(test_docs, 0)\n",
    "prob2 = naive_bayes.calculate_prob(test_docs, 1)\n",
    "print(f\"Probability for category 0: {prob1}\")\n",
    "print(f\"Probability for category 1: {prob2}\")"
   ]
  },
  {
   "attachments": {},
   "cell_type": "markdown",
   "id": "occupied-sheep",
   "metadata": {},
   "source": [
    "### 2.5 Predict labels for new headlines [2 points]\n",
    "With the posterior probability of each category, you can predict the label for new headlines. **Fill in** the function ```predict``` that, given a list of headlines, returns the predicted categories of the headlines."
   ]
  },
  {
   "cell_type": "code",
   "execution_count": null,
   "id": "opposed-territory",
   "metadata": {},
   "outputs": [],
   "source": [
    "preds = naive_bayes.predict(test_docs)\n",
    "print(f\"Prediction: {preds}\")"
   ]
  },
  {
   "attachments": {},
   "cell_type": "markdown",
   "id": "bronze-semester",
   "metadata": {},
   "source": [
    "### 2.6 Calculate evaluation metrics [5 points]\n",
    "To evaluate a classifier, you need to calculate some evaluation metrics. **Fill in** the function ```evaluate``` that, given a list of predictions and a list of true labels, returns the accuracy, macro f1-score, and micro f1-score. You can **NOT** use functions in sklearn."
   ]
  },
  {
   "cell_type": "code",
   "execution_count": null,
   "id": "level-casino",
   "metadata": {},
   "outputs": [],
   "source": [
    "predictions = [1,1,0,1,0,0,1]\n",
    "labels = [1,0,0,1,0,1,1]\n",
    "accuracy, mac_f1, mic_f1 = evaluate(predictions, labels)\n",
    "print(f\"Accuracy: {accuracy}\")\n",
    "print(f\"Macro f1: {mac_f1}\")\n",
    "print(f\"Micro f1: {mic_f1}\")"
   ]
  },
  {
   "cell_type": "markdown",
   "id": "warming-corner",
   "metadata": {},
   "source": [
    "### 2.7 Test classifier on test data [2 points]\n",
    "Finally, you are ready to evaluate your classifier on the test data! Run the following cell to make predictions and print out performance."
   ]
  },
  {
   "cell_type": "code",
   "execution_count": null,
   "id": "amended-angle",
   "metadata": {},
   "outputs": [],
   "source": [
    "predictions = naive_bayes.predict(test.text.tolist())\n",
    "labels = test.label.tolist()\n",
    "accuracy, mac_f1, mic_f1 = evaluate(predictions, labels)\n",
    "print(f\"Accuracy: {accuracy}\")\n",
    "print(f\"Macro f1: {mac_f1}\")\n",
    "print(f\"Micro f1: {mic_f1}\")"
   ]
  }
 ],
 "metadata": {
  "kernelspec": {
   "display_name": "forClass",
   "language": "python",
   "name": "python3"
  },
  "language_info": {
   "codemirror_mode": {
    "name": "ipython",
    "version": 3
   },
   "file_extension": ".py",
   "mimetype": "text/x-python",
   "name": "python",
   "nbconvert_exporter": "python",
   "pygments_lexer": "ipython3",
   "version": "3.10.6 (tags/v3.10.6:9c7b4bd, Aug  1 2022, 21:53:49) [MSC v.1932 64 bit (AMD64)]"
  },
  "vscode": {
   "interpreter": {
    "hash": "d32eea16be5f7512ccd38ad6a3896f5ab97044c41fa2d520640b9eb9abd8c2e7"
   }
  }
 },
 "nbformat": 4,
 "nbformat_minor": 5
}
